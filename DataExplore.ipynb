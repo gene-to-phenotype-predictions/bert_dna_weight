{
 "cells": [
  {
   "cell_type": "code",
   "execution_count": 1,
   "metadata": {},
   "outputs": [
    {
     "name": "stderr",
     "output_type": "stream",
     "text": [
      "c:\\Users\\zeusg\\Envs\\real-fast\\lib\\site-packages\\scipy\\__init__.py:146: UserWarning: A NumPy version >=1.16.5 and <1.23.0 is required for this version of SciPy (detected version 1.24.0\n",
      "  warnings.warn(f\"A NumPy version >={np_minversion} and <{np_maxversion}\"\n"
     ]
    }
   ],
   "source": [
    "import pandas as pd\n",
    "import numpy as np\n",
    "import pickle\n",
    "import Bio   \n",
    "import plotly.express as px\n",
    "import plotly.graph_objects as go\n",
    "from jproperties import Properties\n",
    "import wandb\n",
    "from transformers import AutoTokenizer, AutoModelForSequenceClassification, pipeline, AutoModel, TrainingArguments, Trainer\n",
    "from motif_utils import seq2kmer # Soruced from https://github.com/jerryji1993/DNABERT\n",
    "import torch\n",
    "from datasets import Dataset\n",
    "import evaluate"
   ]
  },
  {
   "cell_type": "code",
   "execution_count": 2,
   "metadata": {},
   "outputs": [
    {
     "data": {
      "text/plain": [
       "'\\nhttps://wandb.ai/pcoady/DNA-Weight/runs/vsv999jb?workspace=user-pcoady\\n'"
      ]
     },
     "execution_count": 2,
     "metadata": {},
     "output_type": "execute_result"
    }
   ],
   "source": [
    "'''\n",
    "https://wandb.ai/pcoady/DNA-Weight/runs/vsv999jb?workspace=user-pcoady\n",
    "'''"
   ]
  },
  {
   "cell_type": "code",
   "execution_count": 3,
   "metadata": {},
   "outputs": [],
   "source": [
    "#zhihan1996/DNA_bert_6"
   ]
  },
  {
   "cell_type": "code",
   "execution_count": 4,
   "metadata": {},
   "outputs": [],
   "source": [
    "configs = Properties()\n",
    "with open(\"env.properties\", \"rb\") as config_file:\n",
    "    configs.load(config_file)\n"
   ]
  },
  {
   "cell_type": "code",
   "execution_count": 5,
   "metadata": {},
   "outputs": [],
   "source": [
    "def load_data():\n",
    "    '''\n",
    "    TODO:\n",
    "     1. Split Gene's into 512 k-mer chunks\n",
    "     2. Keep duplicate genes on either the eval or train side. \n",
    "    \n",
    "    '''\n",
    "    path = f\"D:\\DNAWeight\\data\\capstone_body_weight_and_sequences\\capstone_dictionary_gene_fasta_sample_16122022.pkl\"\n",
    "    with open(configs.get(\"SEQ_LOCATION\").data, 'rb') as file:\n",
    "        dna_dict =  pickle.load(file)\n",
    "    dna = pd.Series({k:seq2kmer(str(v.seq), 6) for k,v in dna_dict.items()})\n",
    "    dna.name = \"dna_seq\"\n",
    "    df = pd.read_csv(configs.get(\"BODY_WEIGHT_LOCATION\").data, delimiter=\";\")\n",
    "    df = df.merge(dna, left_on=\"marker_symbol\", right_index=True)\n",
    "\n",
    "    return df\n",
    "df = load_data()"
   ]
  },
  {
   "cell_type": "code",
   "execution_count": 6,
   "metadata": {},
   "outputs": [
    {
     "data": {
      "text/plain": [
       "424"
      ]
     },
     "execution_count": 6,
     "metadata": {},
     "output_type": "execute_result"
    }
   ],
   "source": [
    "len(df.marker_symbol.unique())"
   ]
  },
  {
   "cell_type": "code",
   "execution_count": 7,
   "metadata": {},
   "outputs": [
    {
     "data": {
      "text/html": [
       "<div>\n",
       "<style scoped>\n",
       "    .dataframe tbody tr th:only-of-type {\n",
       "        vertical-align: middle;\n",
       "    }\n",
       "\n",
       "    .dataframe tbody tr th {\n",
       "        vertical-align: top;\n",
       "    }\n",
       "\n",
       "    .dataframe thead th {\n",
       "        text-align: right;\n",
       "    }\n",
       "</style>\n",
       "<table border=\"1\" class=\"dataframe\">\n",
       "  <thead>\n",
       "    <tr style=\"text-align: right;\">\n",
       "      <th></th>\n",
       "      <th>parameter_name</th>\n",
       "      <th>allele_accession_id</th>\n",
       "      <th>zygosity</th>\n",
       "      <th>allele_symbol</th>\n",
       "      <th>marker_accession_id</th>\n",
       "      <th>marker_symbol</th>\n",
       "      <th>estimate_gene_effect_size_in_female</th>\n",
       "      <th>std_error_estimate_gene_effect_size_in_female</th>\n",
       "      <th>p_value_genotype_effect_in_female</th>\n",
       "      <th>adjusted_p_value_genotype_effect_in_female</th>\n",
       "      <th>estimate_gene_effect_size_in_male</th>\n",
       "      <th>std_error_estimate_gene_effect_size_in_male</th>\n",
       "      <th>p_value_genotype_effect_in_male</th>\n",
       "      <th>adjusted_p_value_genotype_effect_in_male</th>\n",
       "      <th>type_of_estimate</th>\n",
       "      <th>dna_seq</th>\n",
       "    </tr>\n",
       "  </thead>\n",
       "  <tbody>\n",
       "    <tr>\n",
       "      <th>0</th>\n",
       "      <td>body weight</td>\n",
       "      <td>mgi:5443928</td>\n",
       "      <td>heterozygote</td>\n",
       "      <td>Trip13&lt;tm1.1(KOMP)Vlcg&gt;</td>\n",
       "      <td>MGI:1916966</td>\n",
       "      <td>Trip13</td>\n",
       "      <td>0.178826</td>\n",
       "      <td>0.100241</td>\n",
       "      <td>0.074477</td>\n",
       "      <td>0.313866</td>\n",
       "      <td>0.178826</td>\n",
       "      <td>0.100241</td>\n",
       "      <td>0.074477</td>\n",
       "      <td>0.192986</td>\n",
       "      <td>Overall genotype estimate</td>\n",
       "      <td>AAGAGA AGAGAA GAGAAT AGAATT GAATTC AATTCT ATTC...</td>\n",
       "    </tr>\n",
       "    <tr>\n",
       "      <th>1</th>\n",
       "      <td>body weight</td>\n",
       "      <td>mgi:5443928</td>\n",
       "      <td>homozygote</td>\n",
       "      <td>Trip13&lt;tm1.1(KOMP)Vlcg&gt;</td>\n",
       "      <td>MGI:1916966</td>\n",
       "      <td>Trip13</td>\n",
       "      <td>1.142868</td>\n",
       "      <td>0.239162</td>\n",
       "      <td>0.000002</td>\n",
       "      <td>0.000053</td>\n",
       "      <td>0.362294</td>\n",
       "      <td>0.236102</td>\n",
       "      <td>0.124962</td>\n",
       "      <td>0.388039</td>\n",
       "      <td>Sex-specific genotype estimate</td>\n",
       "      <td>AAGAGA AGAGAA GAGAAT AGAATT GAATTC AATTCT ATTC...</td>\n",
       "    </tr>\n",
       "    <tr>\n",
       "      <th>2</th>\n",
       "      <td>body weight</td>\n",
       "      <td>mgi:5446143</td>\n",
       "      <td>homozygote</td>\n",
       "      <td>Setd6&lt;tm1.1(KOMP)Mbp&gt;</td>\n",
       "      <td>MGI:1913333</td>\n",
       "      <td>Setd6</td>\n",
       "      <td>-0.131337</td>\n",
       "      <td>0.126265</td>\n",
       "      <td>0.298304</td>\n",
       "      <td>0.444773</td>\n",
       "      <td>-0.131337</td>\n",
       "      <td>0.126265</td>\n",
       "      <td>0.298304</td>\n",
       "      <td>0.436052</td>\n",
       "      <td>Overall genotype estimate</td>\n",
       "      <td>CTCTTC TCTTCT CTTCTC TTCTCT TCTCTC CTCTCT TCTC...</td>\n",
       "    </tr>\n",
       "    <tr>\n",
       "      <th>3</th>\n",
       "      <td>body weight</td>\n",
       "      <td>mgi:5448653</td>\n",
       "      <td>homozygote</td>\n",
       "      <td>Rad21l&lt;tm1b(KOMP)Wtsi&gt;</td>\n",
       "      <td>MGI:3652039</td>\n",
       "      <td>Rad21l</td>\n",
       "      <td>0.019190</td>\n",
       "      <td>0.131798</td>\n",
       "      <td>0.884239</td>\n",
       "      <td>0.904335</td>\n",
       "      <td>0.019190</td>\n",
       "      <td>0.131798</td>\n",
       "      <td>0.884239</td>\n",
       "      <td>0.904335</td>\n",
       "      <td>Overall genotype estimate</td>\n",
       "      <td>AAAGTT AAGTTA AGTTAA GTTAAA TTAAAT TAAATA AAAT...</td>\n",
       "    </tr>\n",
       "    <tr>\n",
       "      <th>4</th>\n",
       "      <td>body weight</td>\n",
       "      <td>mgi:5468968</td>\n",
       "      <td>homozygote</td>\n",
       "      <td>Tpgs2&lt;tm1.1(KOMP)Vlcg&gt;</td>\n",
       "      <td>MGI:1913898</td>\n",
       "      <td>Tpgs2</td>\n",
       "      <td>0.127253</td>\n",
       "      <td>0.109773</td>\n",
       "      <td>0.246400</td>\n",
       "      <td>0.431201</td>\n",
       "      <td>0.127253</td>\n",
       "      <td>0.109773</td>\n",
       "      <td>0.246400</td>\n",
       "      <td>0.418134</td>\n",
       "      <td>Overall genotype estimate</td>\n",
       "      <td>ATGGTT TGGTTC GGTTCA GTTCAG TTCAGC TCAGCT CAGC...</td>\n",
       "    </tr>\n",
       "    <tr>\n",
       "      <th>5</th>\n",
       "      <td>body weight</td>\n",
       "      <td>mgi:5474780</td>\n",
       "      <td>homozygote</td>\n",
       "      <td>Rimklb&lt;tm1.1(KOMP)Vlcg&gt;</td>\n",
       "      <td>MGI:1918325</td>\n",
       "      <td>Rimklb</td>\n",
       "      <td>0.309000</td>\n",
       "      <td>0.261218</td>\n",
       "      <td>0.236887</td>\n",
       "      <td>0.368490</td>\n",
       "      <td>-1.162641</td>\n",
       "      <td>0.251216</td>\n",
       "      <td>0.000004</td>\n",
       "      <td>0.000026</td>\n",
       "      <td>Sex-specific genotype estimate</td>\n",
       "      <td>TCATTC CATTCC ATTCCC TTCCCA TCCCAT CCCATT CCAT...</td>\n",
       "    </tr>\n",
       "    <tr>\n",
       "      <th>6</th>\n",
       "      <td>body weight</td>\n",
       "      <td>mgi:5494466</td>\n",
       "      <td>heterozygote</td>\n",
       "      <td>Lrp1&lt;tm1.1(KOMP)Wtsi&gt;</td>\n",
       "      <td>MGI:96828</td>\n",
       "      <td>Lrp1</td>\n",
       "      <td>0.219402</td>\n",
       "      <td>0.253100</td>\n",
       "      <td>0.386052</td>\n",
       "      <td>0.434308</td>\n",
       "      <td>-0.882094</td>\n",
       "      <td>0.250814</td>\n",
       "      <td>0.000440</td>\n",
       "      <td>0.003957</td>\n",
       "      <td>Sex-specific genotype estimate</td>\n",
       "      <td>TTCTTT TCTTTT CTTTTC TTTTCT TTTCTT TTCTTT TCTT...</td>\n",
       "    </tr>\n",
       "    <tr>\n",
       "      <th>7</th>\n",
       "      <td>body weight</td>\n",
       "      <td>mgi:5509058</td>\n",
       "      <td>heterozygote</td>\n",
       "      <td>Svep1&lt;tm1b(EUCOMM)Hmgu&gt;</td>\n",
       "      <td>MGI:1928849</td>\n",
       "      <td>Svep1</td>\n",
       "      <td>0.323476</td>\n",
       "      <td>0.129932</td>\n",
       "      <td>0.012815</td>\n",
       "      <td>0.102520</td>\n",
       "      <td>-0.511971</td>\n",
       "      <td>0.129932</td>\n",
       "      <td>0.000082</td>\n",
       "      <td>0.001316</td>\n",
       "      <td>Sex-specific genotype estimate</td>\n",
       "      <td>TATTTA ATTTAG TTTAGT TTAGTA TAGTAG AGTAGC GTAG...</td>\n",
       "    </tr>\n",
       "    <tr>\n",
       "      <th>8</th>\n",
       "      <td>body weight</td>\n",
       "      <td>mgi:5509325</td>\n",
       "      <td>homozygote</td>\n",
       "      <td>Igsf11&lt;tm1b(KOMP)Wtsi&gt;</td>\n",
       "      <td>MGI:2388477</td>\n",
       "      <td>Igsf11</td>\n",
       "      <td>0.055385</td>\n",
       "      <td>0.147537</td>\n",
       "      <td>0.707376</td>\n",
       "      <td>0.853644</td>\n",
       "      <td>0.565063</td>\n",
       "      <td>0.150647</td>\n",
       "      <td>0.000178</td>\n",
       "      <td>0.012444</td>\n",
       "      <td>Sex-specific genotype estimate</td>\n",
       "      <td>TCCTGG CCTGGA CTGGAA TGGAAC GGAACT GAACTC AACT...</td>\n",
       "    </tr>\n",
       "    <tr>\n",
       "      <th>9</th>\n",
       "      <td>body weight</td>\n",
       "      <td>mgi:5520180</td>\n",
       "      <td>heterozygote</td>\n",
       "      <td>Rab34&lt;tm1b(EUCOMM)Hmgu&gt;</td>\n",
       "      <td>MGI:104606</td>\n",
       "      <td>Rab34</td>\n",
       "      <td>-0.371636</td>\n",
       "      <td>0.116002</td>\n",
       "      <td>0.001363</td>\n",
       "      <td>0.020450</td>\n",
       "      <td>-0.371636</td>\n",
       "      <td>0.116002</td>\n",
       "      <td>0.001363</td>\n",
       "      <td>0.012270</td>\n",
       "      <td>Overall genotype estimate</td>\n",
       "      <td>CTCTCC TCTCCC CTCCCC TCCCCC CCCCCT CCCCTT CCCT...</td>\n",
       "    </tr>\n",
       "  </tbody>\n",
       "</table>\n",
       "</div>"
      ],
      "text/plain": [
       "  parameter_name allele_accession_id      zygosity            allele_symbol  \\\n",
       "0    body weight         mgi:5443928  heterozygote  Trip13<tm1.1(KOMP)Vlcg>   \n",
       "1    body weight         mgi:5443928    homozygote  Trip13<tm1.1(KOMP)Vlcg>   \n",
       "2    body weight         mgi:5446143    homozygote    Setd6<tm1.1(KOMP)Mbp>   \n",
       "3    body weight         mgi:5448653    homozygote   Rad21l<tm1b(KOMP)Wtsi>   \n",
       "4    body weight         mgi:5468968    homozygote   Tpgs2<tm1.1(KOMP)Vlcg>   \n",
       "5    body weight         mgi:5474780    homozygote  Rimklb<tm1.1(KOMP)Vlcg>   \n",
       "6    body weight         mgi:5494466  heterozygote    Lrp1<tm1.1(KOMP)Wtsi>   \n",
       "7    body weight         mgi:5509058  heterozygote  Svep1<tm1b(EUCOMM)Hmgu>   \n",
       "8    body weight         mgi:5509325    homozygote   Igsf11<tm1b(KOMP)Wtsi>   \n",
       "9    body weight         mgi:5520180  heterozygote  Rab34<tm1b(EUCOMM)Hmgu>   \n",
       "\n",
       "  marker_accession_id marker_symbol  estimate_gene_effect_size_in_female  \\\n",
       "0         MGI:1916966        Trip13                             0.178826   \n",
       "1         MGI:1916966        Trip13                             1.142868   \n",
       "2         MGI:1913333         Setd6                            -0.131337   \n",
       "3         MGI:3652039        Rad21l                             0.019190   \n",
       "4         MGI:1913898         Tpgs2                             0.127253   \n",
       "5         MGI:1918325        Rimklb                             0.309000   \n",
       "6           MGI:96828          Lrp1                             0.219402   \n",
       "7         MGI:1928849         Svep1                             0.323476   \n",
       "8         MGI:2388477        Igsf11                             0.055385   \n",
       "9          MGI:104606         Rab34                            -0.371636   \n",
       "\n",
       "   std_error_estimate_gene_effect_size_in_female  \\\n",
       "0                                       0.100241   \n",
       "1                                       0.239162   \n",
       "2                                       0.126265   \n",
       "3                                       0.131798   \n",
       "4                                       0.109773   \n",
       "5                                       0.261218   \n",
       "6                                       0.253100   \n",
       "7                                       0.129932   \n",
       "8                                       0.147537   \n",
       "9                                       0.116002   \n",
       "\n",
       "   p_value_genotype_effect_in_female  \\\n",
       "0                           0.074477   \n",
       "1                           0.000002   \n",
       "2                           0.298304   \n",
       "3                           0.884239   \n",
       "4                           0.246400   \n",
       "5                           0.236887   \n",
       "6                           0.386052   \n",
       "7                           0.012815   \n",
       "8                           0.707376   \n",
       "9                           0.001363   \n",
       "\n",
       "   adjusted_p_value_genotype_effect_in_female  \\\n",
       "0                                    0.313866   \n",
       "1                                    0.000053   \n",
       "2                                    0.444773   \n",
       "3                                    0.904335   \n",
       "4                                    0.431201   \n",
       "5                                    0.368490   \n",
       "6                                    0.434308   \n",
       "7                                    0.102520   \n",
       "8                                    0.853644   \n",
       "9                                    0.020450   \n",
       "\n",
       "   estimate_gene_effect_size_in_male  \\\n",
       "0                           0.178826   \n",
       "1                           0.362294   \n",
       "2                          -0.131337   \n",
       "3                           0.019190   \n",
       "4                           0.127253   \n",
       "5                          -1.162641   \n",
       "6                          -0.882094   \n",
       "7                          -0.511971   \n",
       "8                           0.565063   \n",
       "9                          -0.371636   \n",
       "\n",
       "   std_error_estimate_gene_effect_size_in_male  \\\n",
       "0                                     0.100241   \n",
       "1                                     0.236102   \n",
       "2                                     0.126265   \n",
       "3                                     0.131798   \n",
       "4                                     0.109773   \n",
       "5                                     0.251216   \n",
       "6                                     0.250814   \n",
       "7                                     0.129932   \n",
       "8                                     0.150647   \n",
       "9                                     0.116002   \n",
       "\n",
       "   p_value_genotype_effect_in_male  adjusted_p_value_genotype_effect_in_male  \\\n",
       "0                         0.074477                                  0.192986   \n",
       "1                         0.124962                                  0.388039   \n",
       "2                         0.298304                                  0.436052   \n",
       "3                         0.884239                                  0.904335   \n",
       "4                         0.246400                                  0.418134   \n",
       "5                         0.000004                                  0.000026   \n",
       "6                         0.000440                                  0.003957   \n",
       "7                         0.000082                                  0.001316   \n",
       "8                         0.000178                                  0.012444   \n",
       "9                         0.001363                                  0.012270   \n",
       "\n",
       "                 type_of_estimate  \\\n",
       "0       Overall genotype estimate   \n",
       "1  Sex-specific genotype estimate   \n",
       "2       Overall genotype estimate   \n",
       "3       Overall genotype estimate   \n",
       "4       Overall genotype estimate   \n",
       "5  Sex-specific genotype estimate   \n",
       "6  Sex-specific genotype estimate   \n",
       "7  Sex-specific genotype estimate   \n",
       "8  Sex-specific genotype estimate   \n",
       "9       Overall genotype estimate   \n",
       "\n",
       "                                             dna_seq  \n",
       "0  AAGAGA AGAGAA GAGAAT AGAATT GAATTC AATTCT ATTC...  \n",
       "1  AAGAGA AGAGAA GAGAAT AGAATT GAATTC AATTCT ATTC...  \n",
       "2  CTCTTC TCTTCT CTTCTC TTCTCT TCTCTC CTCTCT TCTC...  \n",
       "3  AAAGTT AAGTTA AGTTAA GTTAAA TTAAAT TAAATA AAAT...  \n",
       "4  ATGGTT TGGTTC GGTTCA GTTCAG TTCAGC TCAGCT CAGC...  \n",
       "5  TCATTC CATTCC ATTCCC TTCCCA TCCCAT CCCATT CCAT...  \n",
       "6  TTCTTT TCTTTT CTTTTC TTTTCT TTTCTT TTCTTT TCTT...  \n",
       "7  TATTTA ATTTAG TTTAGT TTAGTA TAGTAG AGTAGC GTAG...  \n",
       "8  TCCTGG CCTGGA CTGGAA TGGAAC GGAACT GAACTC AACT...  \n",
       "9  CTCTCC TCTCCC CTCCCC TCCCCC CCCCCT CCCCTT CCCT...  "
      ]
     },
     "execution_count": 7,
     "metadata": {},
     "output_type": "execute_result"
    }
   ],
   "source": [
    "df.head(10)"
   ]
  },
  {
   "cell_type": "code",
   "execution_count": null,
   "metadata": {},
   "outputs": [],
   "source": []
  },
  {
   "cell_type": "code",
   "execution_count": 9,
   "metadata": {},
   "outputs": [],
   "source": [
    "df = df[[\"dna_seq\",\"estimate_gene_effect_size_in_male\"]]\n",
    "df = df.rename({\"estimate_gene_effect_size_in_male\":\"label\"}, axis=1)"
   ]
  },
  {
   "cell_type": "code",
   "execution_count": 10,
   "metadata": {},
   "outputs": [
    {
     "name": "stderr",
     "output_type": "stream",
     "text": [
      "Some weights of the model checkpoint at zhihan1996/DNA_bert_6 were not used when initializing BertForSequenceClassification: ['cls.predictions.transform.LayerNorm.bias', 'cls.predictions.transform.dense.weight', 'cls.predictions.transform.dense.bias', 'cls.predictions.bias', 'cls.predictions.decoder.bias', 'cls.predictions.decoder.weight', 'cls.predictions.transform.LayerNorm.weight']\n",
      "- This IS expected if you are initializing BertForSequenceClassification from the checkpoint of a model trained on another task or with another architecture (e.g. initializing a BertForSequenceClassification model from a BertForPreTraining model).\n",
      "- This IS NOT expected if you are initializing BertForSequenceClassification from the checkpoint of a model that you expect to be exactly identical (initializing a BertForSequenceClassification model from a BertForSequenceClassification model).\n",
      "Some weights of BertForSequenceClassification were not initialized from the model checkpoint at zhihan1996/DNA_bert_6 and are newly initialized: ['classifier.weight', 'classifier.bias']\n",
      "You should probably TRAIN this model on a down-stream task to be able to use it for predictions and inference.\n"
     ]
    }
   ],
   "source": [
    "tokenizer = AutoTokenizer.from_pretrained('zhihan1996/DNA_bert_6')\n",
    "model = AutoModelForSequenceClassification.from_pretrained('zhihan1996/DNA_bert_6', \n",
    "                                                           num_labels=1, \n",
    "                                                           ignore_mismatched_sizes=True)"
   ]
  },
  {
   "cell_type": "code",
   "execution_count": null,
   "metadata": {},
   "outputs": [],
   "source": []
  },
  {
   "cell_type": "code",
   "execution_count": 11,
   "metadata": {},
   "outputs": [],
   "source": [
    "def tokenize_function(df):\n",
    "    return tokenizer(df[\"dna_seq\"], padding=True, truncation=True, max_length=512)#512\n"
   ]
  },
  {
   "cell_type": "code",
   "execution_count": 12,
   "metadata": {},
   "outputs": [
    {
     "name": "stderr",
     "output_type": "stream",
     "text": [
      "100%|██████████| 1/1 [00:49<00:00, 49.19s/ba]\n"
     ]
    }
   ],
   "source": [
    "dataset = Dataset.from_pandas(df)\n",
    "tokenized_datasets = dataset.map(tokenize_function, batched=True)"
   ]
  },
  {
   "cell_type": "code",
   "execution_count": 13,
   "metadata": {},
   "outputs": [],
   "source": [
    "train, val, test = torch.utils.data.random_split(tokenized_datasets, [310, 66, 67])"
   ]
  },
  {
   "cell_type": "code",
   "execution_count": 14,
   "metadata": {},
   "outputs": [
    {
     "name": "stdout",
     "output_type": "stream",
     "text": [
      "{'input_ids': [2, 209, 821, 3270, 778, 3099, 94, 364, 1441, 3], 'token_type_ids': [0, 0, 0, 0, 0, 0, 0, 0, 0, 0], 'attention_mask': [1, 1, 1, 1, 1, 1, 1, 1, 1, 1]}\n",
      "3581\n",
      "177379\n"
     ]
    }
   ],
   "source": [
    "print(tokenizer(df.head(1)[\"dna_seq\"].values[0], padding=True, truncation=True, max_length=10))\n",
    "print(len(tokenizer.decode(tokenizer(df.head(1)[\"dna_seq\"].values[0], padding=True, truncation=True, max_length=512)[\"input_ids\"])))\n",
    "print(len(df.head(1)[\"dna_seq\"].values[0]))"
   ]
  },
  {
   "cell_type": "code",
   "execution_count": 16,
   "metadata": {},
   "outputs": [
    {
     "data": {
      "text/plain": [
       "0.006322157869656096"
      ]
     },
     "execution_count": 16,
     "metadata": {},
     "output_type": "execute_result"
    }
   ],
   "source": [
    "3581/df[\"dna_seq\"].apply(len).mean()"
   ]
  },
  {
   "cell_type": "code",
   "execution_count": null,
   "metadata": {},
   "outputs": [],
   "source": []
  },
  {
   "cell_type": "code",
   "execution_count": 12,
   "metadata": {},
   "outputs": [
    {
     "name": "stderr",
     "output_type": "stream",
     "text": [
      "Failed to detect the name of this notebook, you can set it manually with the WANDB_NOTEBOOK_NAME environment variable to enable code saving.\n",
      "\u001b[34m\u001b[1mwandb\u001b[0m: Currently logged in as: \u001b[33mpcoady\u001b[0m. Use \u001b[1m`wandb login --relogin`\u001b[0m to force relogin\n"
     ]
    },
    {
     "data": {
      "text/html": [
       "wandb version 0.13.7 is available!  To upgrade, please run:\n",
       " $ pip install wandb --upgrade"
      ],
      "text/plain": [
       "<IPython.core.display.HTML object>"
      ]
     },
     "metadata": {},
     "output_type": "display_data"
    },
    {
     "data": {
      "text/html": [
       "Tracking run with wandb version 0.12.18"
      ],
      "text/plain": [
       "<IPython.core.display.HTML object>"
      ]
     },
     "metadata": {},
     "output_type": "display_data"
    },
    {
     "data": {
      "text/html": [
       "Run data is saved locally in <code>d:\\DNAWeight\\wandb\\run-20221226_111848-vsv999jb</code>"
      ],
      "text/plain": [
       "<IPython.core.display.HTML object>"
      ]
     },
     "metadata": {},
     "output_type": "display_data"
    },
    {
     "data": {
      "text/html": [
       "Syncing run <strong><a href=\"https://wandb.ai/pcoady/DNA-Weight/runs/vsv999jb\" target=\"_blank\">eternal-sun-15</a></strong> to <a href=\"https://wandb.ai/pcoady/DNA-Weight\" target=\"_blank\">Weights & Biases</a> (<a href=\"https://wandb.me/run\" target=\"_blank\">docs</a>)<br/>"
      ],
      "text/plain": [
       "<IPython.core.display.HTML object>"
      ]
     },
     "metadata": {},
     "output_type": "display_data"
    }
   ],
   "source": [
    "wandb.init(project=configs.get(\"WNB_PROJECT\").data, entity=configs.get(\"WNB_USER\").data)\n",
    "wandb_config = wandb.config"
   ]
  },
  {
   "cell_type": "code",
   "execution_count": 13,
   "metadata": {},
   "outputs": [],
   "source": [
    "mse_metric = evaluate.load(\"mse\")\n",
    "def compute_metrics(eval_pred):\n",
    "    logits, labels = eval_pred\n",
    "    \n",
    "    wandb.log({'True Values': labels })\n",
    "    wandb.log({'Predicted Values': logits})\n",
    "\n",
    "    mse = mse_metric.compute(predictions=logits, references=labels)\n",
    "    return mse"
   ]
  },
  {
   "cell_type": "code",
   "execution_count": 14,
   "metadata": {},
   "outputs": [],
   "source": [
    "training_args = TrainingArguments(output_dir='weight_model', \n",
    "                                  evaluation_strategy='epoch',\n",
    "                                  per_device_train_batch_size = 5,  \n",
    "                                  num_train_epochs=100)\n",
    "\n",
    "trainer = Trainer(\n",
    "    model=model,\n",
    "    args=training_args,\n",
    "    train_dataset=train,\n",
    "    eval_dataset=val,\n",
    "    compute_metrics=compute_metrics\n",
    ")"
   ]
  },
  {
   "cell_type": "code",
   "execution_count": 15,
   "metadata": {},
   "outputs": [
    {
     "name": "stderr",
     "output_type": "stream",
     "text": [
      "c:\\Users\\zeusg\\Envs\\real-fast\\lib\\site-packages\\transformers\\optimization.py:306: FutureWarning: This implementation of AdamW is deprecated and will be removed in a future version. Use the PyTorch implementation torch.optim.AdamW instead, or set `no_deprecation_warning=True` to disable this warning\n",
      "  warnings.warn(\n",
      "***** Running training *****\n",
      "  Num examples = 310\n",
      "  Num Epochs = 100\n",
      "  Instantaneous batch size per device = 5\n",
      "  Total train batch size (w. parallel, distributed & accumulation) = 5\n",
      "  Gradient Accumulation steps = 1\n",
      "  Total optimization steps = 6200\n",
      "Automatic Weights & Biases logging enabled, to disable set os.environ[\"WANDB_DISABLED\"] = \"true\"\n",
      "  0%|          | 0/6200 [00:00<?, ?it/s]The following columns in the training set don't have a corresponding argument in `BertForSequenceClassification.forward` and have been ignored: __index_level_0__, dna_seq. If __index_level_0__, dna_seq are not expected by `BertForSequenceClassification.forward`,  you can safely ignore this message.\n",
      "  1%|          | 62/6200 [00:23<34:06,  3.00it/s] ***** Running Evaluation *****\n",
      "  Num examples = 66\n",
      "  Batch size = 8\n",
      "The following columns in the evaluation set don't have a corresponding argument in `BertForSequenceClassification.forward` and have been ignored: __index_level_0__, dna_seq. If __index_level_0__, dna_seq are not expected by `BertForSequenceClassification.forward`,  you can safely ignore this message.\n",
      "                                                 \n",
      "  1%|          | 62/6200 [00:24<34:06,  3.00it/s]"
     ]
    },
    {
     "name": "stdout",
     "output_type": "stream",
     "text": [
      "{'eval_loss': 0.263769268989563, 'eval_mse': 0.2637692339813635, 'eval_runtime': 1.439, 'eval_samples_per_second': 45.865, 'eval_steps_per_second': 6.254, 'epoch': 1.0}\n"
     ]
    },
    {
     "name": "stderr",
     "output_type": "stream",
     "text": [
      "  2%|▏         | 124/6200 [00:45<34:09,  2.96it/s] ***** Running Evaluation *****\n",
      "  Num examples = 66\n",
      "  Batch size = 8\n",
      "The following columns in the evaluation set don't have a corresponding argument in `BertForSequenceClassification.forward` and have been ignored: __index_level_0__, dna_seq. If __index_level_0__, dna_seq are not expected by `BertForSequenceClassification.forward`,  you can safely ignore this message.\n",
      "                                                  \n",
      "  2%|▏         | 124/6200 [00:47<34:09,  2.96it/s]"
     ]
    },
    {
     "name": "stdout",
     "output_type": "stream",
     "text": [
      "{'eval_loss': 0.33650195598602295, 'eval_mse': 0.3365019577415374, 'eval_runtime': 1.459, 'eval_samples_per_second': 45.237, 'eval_steps_per_second': 6.169, 'epoch': 2.0}\n"
     ]
    },
    {
     "name": "stderr",
     "output_type": "stream",
     "text": [
      "  3%|▎         | 186/6200 [01:08<34:49,  2.88it/s]  ***** Running Evaluation *****\n",
      "  Num examples = 66\n",
      "  Batch size = 8\n",
      "The following columns in the evaluation set don't have a corresponding argument in `BertForSequenceClassification.forward` and have been ignored: __index_level_0__, dna_seq. If __index_level_0__, dna_seq are not expected by `BertForSequenceClassification.forward`,  you can safely ignore this message.\n",
      "                                                  \n",
      "  3%|▎         | 186/6200 [01:10<34:49,  2.88it/s]"
     ]
    },
    {
     "name": "stdout",
     "output_type": "stream",
     "text": [
      "{'eval_loss': 0.3444826304912567, 'eval_mse': 0.34448265508167436, 'eval_runtime': 1.509, 'eval_samples_per_second': 43.738, 'eval_steps_per_second': 5.964, 'epoch': 3.0}\n"
     ]
    },
    {
     "name": "stderr",
     "output_type": "stream",
     "text": [
      "  4%|▍         | 248/6200 [01:31<34:19,  2.89it/s]  ***** Running Evaluation *****\n",
      "  Num examples = 66\n",
      "  Batch size = 8\n",
      "The following columns in the evaluation set don't have a corresponding argument in `BertForSequenceClassification.forward` and have been ignored: __index_level_0__, dna_seq. If __index_level_0__, dna_seq are not expected by `BertForSequenceClassification.forward`,  you can safely ignore this message.\n",
      "                                                  \n",
      "  4%|▍         | 248/6200 [01:33<34:19,  2.89it/s]"
     ]
    },
    {
     "name": "stdout",
     "output_type": "stream",
     "text": [
      "{'eval_loss': 0.31536874175071716, 'eval_mse': 0.315368731024227, 'eval_runtime': 1.5015, 'eval_samples_per_second': 43.956, 'eval_steps_per_second': 5.994, 'epoch': 4.0}\n"
     ]
    },
    {
     "name": "stderr",
     "output_type": "stream",
     "text": [
      "  5%|▌         | 310/6200 [01:54<34:11,  2.87it/s]  ***** Running Evaluation *****\n",
      "  Num examples = 66\n",
      "  Batch size = 8\n",
      "The following columns in the evaluation set don't have a corresponding argument in `BertForSequenceClassification.forward` and have been ignored: __index_level_0__, dna_seq. If __index_level_0__, dna_seq are not expected by `BertForSequenceClassification.forward`,  you can safely ignore this message.\n",
      "                                                  \n",
      "  5%|▌         | 310/6200 [01:56<34:11,  2.87it/s]"
     ]
    },
    {
     "name": "stdout",
     "output_type": "stream",
     "text": [
      "{'eval_loss': 0.28491833806037903, 'eval_mse': 0.28491831198184514, 'eval_runtime': 1.4985, 'eval_samples_per_second': 44.044, 'eval_steps_per_second': 6.006, 'epoch': 5.0}\n"
     ]
    },
    {
     "name": "stderr",
     "output_type": "stream",
     "text": [
      "  6%|▌         | 372/6200 [02:17<33:56,  2.86it/s]  ***** Running Evaluation *****\n",
      "  Num examples = 66\n",
      "  Batch size = 8\n",
      "The following columns in the evaluation set don't have a corresponding argument in `BertForSequenceClassification.forward` and have been ignored: __index_level_0__, dna_seq. If __index_level_0__, dna_seq are not expected by `BertForSequenceClassification.forward`,  you can safely ignore this message.\n",
      "                                                  \n",
      "  6%|▌         | 372/6200 [02:19<33:56,  2.86it/s]"
     ]
    },
    {
     "name": "stdout",
     "output_type": "stream",
     "text": [
      "{'eval_loss': 0.3267359137535095, 'eval_mse': 0.32673585884468626, 'eval_runtime': 1.5025, 'eval_samples_per_second': 43.926, 'eval_steps_per_second': 5.99, 'epoch': 6.0}\n"
     ]
    },
    {
     "name": "stderr",
     "output_type": "stream",
     "text": [
      "  7%|▋         | 434/6200 [02:40<33:48,  2.84it/s]  ***** Running Evaluation *****\n",
      "  Num examples = 66\n",
      "  Batch size = 8\n",
      "The following columns in the evaluation set don't have a corresponding argument in `BertForSequenceClassification.forward` and have been ignored: __index_level_0__, dna_seq. If __index_level_0__, dna_seq are not expected by `BertForSequenceClassification.forward`,  you can safely ignore this message.\n",
      "                                                  \n",
      "  7%|▋         | 434/6200 [02:42<33:48,  2.84it/s]"
     ]
    },
    {
     "name": "stdout",
     "output_type": "stream",
     "text": [
      "{'eval_loss': 0.24649789929389954, 'eval_mse': 0.24649792432914, 'eval_runtime': 1.5095, 'eval_samples_per_second': 43.723, 'eval_steps_per_second': 5.962, 'epoch': 7.0}\n"
     ]
    },
    {
     "name": "stderr",
     "output_type": "stream",
     "text": [
      "  8%|▊         | 496/6200 [03:04<32:16,  2.95it/s]  ***** Running Evaluation *****\n",
      "  Num examples = 66\n",
      "  Batch size = 8\n",
      "The following columns in the evaluation set don't have a corresponding argument in `BertForSequenceClassification.forward` and have been ignored: __index_level_0__, dna_seq. If __index_level_0__, dna_seq are not expected by `BertForSequenceClassification.forward`,  you can safely ignore this message.\n",
      "                                                  \n",
      "  8%|▊         | 496/6200 [03:05<32:16,  2.95it/s]"
     ]
    },
    {
     "name": "stdout",
     "output_type": "stream",
     "text": [
      "{'eval_loss': 0.3112150728702545, 'eval_mse': 0.31121504554981183, 'eval_runtime': 1.461, 'eval_samples_per_second': 45.175, 'eval_steps_per_second': 6.16, 'epoch': 8.0}\n"
     ]
    },
    {
     "name": "stderr",
     "output_type": "stream",
     "text": [
      "  8%|▊         | 500/6200 [03:07<53:08,  1.79it/s]  Saving model checkpoint to weight_model\\checkpoint-500\n",
      "Configuration saved in weight_model\\checkpoint-500\\config.json\n"
     ]
    },
    {
     "name": "stdout",
     "output_type": "stream",
     "text": [
      "{'loss': 0.1968, 'learning_rate': 4.596774193548387e-05, 'epoch': 8.06}\n"
     ]
    },
    {
     "name": "stderr",
     "output_type": "stream",
     "text": [
      "Model weights saved in weight_model\\checkpoint-500\\pytorch_model.bin\n",
      "  9%|▉         | 558/6200 [03:28<32:08,  2.93it/s]  ***** Running Evaluation *****\n",
      "  Num examples = 66\n",
      "  Batch size = 8\n",
      "The following columns in the evaluation set don't have a corresponding argument in `BertForSequenceClassification.forward` and have been ignored: __index_level_0__, dna_seq. If __index_level_0__, dna_seq are not expected by `BertForSequenceClassification.forward`,  you can safely ignore this message.\n",
      "                                                  \n",
      "  9%|▉         | 558/6200 [03:30<32:08,  2.93it/s]"
     ]
    },
    {
     "name": "stdout",
     "output_type": "stream",
     "text": [
      "{'eval_loss': 0.29316702485084534, 'eval_mse': 0.2931670571876204, 'eval_runtime': 1.4655, 'eval_samples_per_second': 45.036, 'eval_steps_per_second': 6.141, 'epoch': 9.0}\n"
     ]
    },
    {
     "name": "stderr",
     "output_type": "stream",
     "text": [
      " 10%|█         | 620/6200 [03:52<32:11,  2.89it/s]  ***** Running Evaluation *****\n",
      "  Num examples = 66\n",
      "  Batch size = 8\n",
      "The following columns in the evaluation set don't have a corresponding argument in `BertForSequenceClassification.forward` and have been ignored: __index_level_0__, dna_seq. If __index_level_0__, dna_seq are not expected by `BertForSequenceClassification.forward`,  you can safely ignore this message.\n",
      "                                                  \n",
      " 10%|█         | 620/6200 [03:53<32:11,  2.89it/s]"
     ]
    },
    {
     "name": "stdout",
     "output_type": "stream",
     "text": [
      "{'eval_loss': 0.3473718762397766, 'eval_mse': 0.3473718944418633, 'eval_runtime': 1.4875, 'eval_samples_per_second': 44.37, 'eval_steps_per_second': 6.05, 'epoch': 10.0}\n"
     ]
    },
    {
     "name": "stderr",
     "output_type": "stream",
     "text": [
      " 11%|█         | 682/6200 [04:15<32:06,  2.86it/s]  ***** Running Evaluation *****\n",
      "  Num examples = 66\n",
      "  Batch size = 8\n",
      "The following columns in the evaluation set don't have a corresponding argument in `BertForSequenceClassification.forward` and have been ignored: __index_level_0__, dna_seq. If __index_level_0__, dna_seq are not expected by `BertForSequenceClassification.forward`,  you can safely ignore this message.\n",
      "                                                  \n",
      " 11%|█         | 682/6200 [04:16<32:06,  2.86it/s]"
     ]
    },
    {
     "name": "stdout",
     "output_type": "stream",
     "text": [
      "{'eval_loss': 0.2809809148311615, 'eval_mse': 0.2809809334741586, 'eval_runtime': 1.5, 'eval_samples_per_second': 44.0, 'eval_steps_per_second': 6.0, 'epoch': 11.0}\n"
     ]
    },
    {
     "name": "stderr",
     "output_type": "stream",
     "text": [
      " 12%|█▏        | 744/6200 [04:38<32:27,  2.80it/s]  ***** Running Evaluation *****\n",
      "  Num examples = 66\n",
      "  Batch size = 8\n",
      "The following columns in the evaluation set don't have a corresponding argument in `BertForSequenceClassification.forward` and have been ignored: __index_level_0__, dna_seq. If __index_level_0__, dna_seq are not expected by `BertForSequenceClassification.forward`,  you can safely ignore this message.\n",
      "                                                  \n",
      " 12%|█▏        | 744/6200 [04:39<32:27,  2.80it/s]"
     ]
    },
    {
     "name": "stdout",
     "output_type": "stream",
     "text": [
      "{'eval_loss': 0.2791675627231598, 'eval_mse': 0.2791675605747203, 'eval_runtime': 1.525, 'eval_samples_per_second': 43.279, 'eval_steps_per_second': 5.902, 'epoch': 12.0}\n"
     ]
    },
    {
     "name": "stderr",
     "output_type": "stream",
     "text": [
      " 13%|█▎        | 806/6200 [05:01<31:25,  2.86it/s]  ***** Running Evaluation *****\n",
      "  Num examples = 66\n",
      "  Batch size = 8\n",
      "The following columns in the evaluation set don't have a corresponding argument in `BertForSequenceClassification.forward` and have been ignored: __index_level_0__, dna_seq. If __index_level_0__, dna_seq are not expected by `BertForSequenceClassification.forward`,  you can safely ignore this message.\n",
      "                                                  \n",
      " 13%|█▎        | 806/6200 [05:03<31:25,  2.86it/s]"
     ]
    },
    {
     "name": "stdout",
     "output_type": "stream",
     "text": [
      "{'eval_loss': 0.27797335386276245, 'eval_mse': 0.27797332428599836, 'eval_runtime': 1.54, 'eval_samples_per_second': 42.857, 'eval_steps_per_second': 5.844, 'epoch': 13.0}\n"
     ]
    },
    {
     "name": "stderr",
     "output_type": "stream",
     "text": [
      " 14%|█▍        | 868/6200 [05:25<30:55,  2.87it/s]  ***** Running Evaluation *****\n",
      "  Num examples = 66\n",
      "  Batch size = 8\n",
      "The following columns in the evaluation set don't have a corresponding argument in `BertForSequenceClassification.forward` and have been ignored: __index_level_0__, dna_seq. If __index_level_0__, dna_seq are not expected by `BertForSequenceClassification.forward`,  you can safely ignore this message.\n",
      "                                                  \n",
      " 14%|█▍        | 868/6200 [05:26<30:55,  2.87it/s]"
     ]
    },
    {
     "name": "stdout",
     "output_type": "stream",
     "text": [
      "{'eval_loss': 0.3013140559196472, 'eval_mse': 0.30131407500290985, 'eval_runtime': 1.526, 'eval_samples_per_second': 43.25, 'eval_steps_per_second': 5.898, 'epoch': 14.0}\n"
     ]
    },
    {
     "name": "stderr",
     "output_type": "stream",
     "text": [
      " 15%|█▌        | 930/6200 [05:49<32:38,  2.69it/s]  ***** Running Evaluation *****\n",
      "  Num examples = 66\n",
      "  Batch size = 8\n",
      "The following columns in the evaluation set don't have a corresponding argument in `BertForSequenceClassification.forward` and have been ignored: __index_level_0__, dna_seq. If __index_level_0__, dna_seq are not expected by `BertForSequenceClassification.forward`,  you can safely ignore this message.\n",
      "                                                  \n",
      " 15%|█▌        | 930/6200 [05:50<32:38,  2.69it/s]"
     ]
    },
    {
     "name": "stdout",
     "output_type": "stream",
     "text": [
      "{'eval_loss': 0.27147749066352844, 'eval_mse': 0.27147748219874446, 'eval_runtime': 1.613, 'eval_samples_per_second': 40.918, 'eval_steps_per_second': 5.58, 'epoch': 15.0}\n"
     ]
    },
    {
     "name": "stderr",
     "output_type": "stream",
     "text": [
      " 16%|█▌        | 992/6200 [06:12<30:39,  2.83it/s]  ***** Running Evaluation *****\n",
      "  Num examples = 66\n",
      "  Batch size = 8\n",
      "The following columns in the evaluation set don't have a corresponding argument in `BertForSequenceClassification.forward` and have been ignored: __index_level_0__, dna_seq. If __index_level_0__, dna_seq are not expected by `BertForSequenceClassification.forward`,  you can safely ignore this message.\n",
      "                                                  \n",
      " 16%|█▌        | 992/6200 [06:14<30:39,  2.83it/s]"
     ]
    },
    {
     "name": "stdout",
     "output_type": "stream",
     "text": [
      "{'eval_loss': 0.2558024227619171, 'eval_mse': 0.25580239080745637, 'eval_runtime': 1.5555, 'eval_samples_per_second': 42.43, 'eval_steps_per_second': 5.786, 'epoch': 16.0}\n"
     ]
    },
    {
     "name": "stderr",
     "output_type": "stream",
     "text": [
      " 16%|█▌        | 1000/6200 [06:17<40:21,  2.15it/s] Saving model checkpoint to weight_model\\checkpoint-1000\n",
      "Configuration saved in weight_model\\checkpoint-1000\\config.json\n"
     ]
    },
    {
     "name": "stdout",
     "output_type": "stream",
     "text": [
      "{'loss': 0.1492, 'learning_rate': 4.1935483870967746e-05, 'epoch': 16.13}\n"
     ]
    },
    {
     "name": "stderr",
     "output_type": "stream",
     "text": [
      "Model weights saved in weight_model\\checkpoint-1000\\pytorch_model.bin\n",
      " 17%|█▋        | 1054/6200 [06:38<30:42,  2.79it/s]  ***** Running Evaluation *****\n",
      "  Num examples = 66\n",
      "  Batch size = 8\n",
      "The following columns in the evaluation set don't have a corresponding argument in `BertForSequenceClassification.forward` and have been ignored: __index_level_0__, dna_seq. If __index_level_0__, dna_seq are not expected by `BertForSequenceClassification.forward`,  you can safely ignore this message.\n",
      "                                                   \n",
      " 17%|█▋        | 1054/6200 [06:40<30:42,  2.79it/s]"
     ]
    },
    {
     "name": "stdout",
     "output_type": "stream",
     "text": [
      "{'eval_loss': 0.32940635085105896, 'eval_mse': 0.32940635363519494, 'eval_runtime': 1.559, 'eval_samples_per_second': 42.335, 'eval_steps_per_second': 5.773, 'epoch': 17.0}\n"
     ]
    },
    {
     "name": "stderr",
     "output_type": "stream",
     "text": [
      " 18%|█▊        | 1116/6200 [07:02<30:05,  2.82it/s]  ***** Running Evaluation *****\n",
      "  Num examples = 66\n",
      "  Batch size = 8\n",
      "The following columns in the evaluation set don't have a corresponding argument in `BertForSequenceClassification.forward` and have been ignored: __index_level_0__, dna_seq. If __index_level_0__, dna_seq are not expected by `BertForSequenceClassification.forward`,  you can safely ignore this message.\n",
      "                                                   \n",
      " 18%|█▊        | 1116/6200 [07:03<30:05,  2.82it/s]"
     ]
    },
    {
     "name": "stdout",
     "output_type": "stream",
     "text": [
      "{'eval_loss': 0.2835376262664795, 'eval_mse': 0.28353761355225704, 'eval_runtime': 1.5615, 'eval_samples_per_second': 42.267, 'eval_steps_per_second': 5.764, 'epoch': 18.0}\n"
     ]
    },
    {
     "name": "stderr",
     "output_type": "stream",
     "text": [
      " 19%|█▉        | 1178/6200 [07:25<30:02,  2.79it/s]  ***** Running Evaluation *****\n",
      "  Num examples = 66\n",
      "  Batch size = 8\n",
      "The following columns in the evaluation set don't have a corresponding argument in `BertForSequenceClassification.forward` and have been ignored: __index_level_0__, dna_seq. If __index_level_0__, dna_seq are not expected by `BertForSequenceClassification.forward`,  you can safely ignore this message.\n",
      "                                                   \n",
      " 19%|█▉        | 1178/6200 [07:27<30:02,  2.79it/s]"
     ]
    },
    {
     "name": "stdout",
     "output_type": "stream",
     "text": [
      "{'eval_loss': 0.2711973488330841, 'eval_mse': 0.271197334534516, 'eval_runtime': 1.574, 'eval_samples_per_second': 41.931, 'eval_steps_per_second': 5.718, 'epoch': 19.0}\n"
     ]
    },
    {
     "name": "stderr",
     "output_type": "stream",
     "text": [
      " 20%|██        | 1240/6200 [07:49<29:45,  2.78it/s]  ***** Running Evaluation *****\n",
      "  Num examples = 66\n",
      "  Batch size = 8\n",
      "The following columns in the evaluation set don't have a corresponding argument in `BertForSequenceClassification.forward` and have been ignored: __index_level_0__, dna_seq. If __index_level_0__, dna_seq are not expected by `BertForSequenceClassification.forward`,  you can safely ignore this message.\n",
      "                                                   \n",
      " 20%|██        | 1240/6200 [07:51<29:45,  2.78it/s]"
     ]
    },
    {
     "name": "stdout",
     "output_type": "stream",
     "text": [
      "{'eval_loss': 0.3004867434501648, 'eval_mse': 0.3004866919551646, 'eval_runtime': 1.571, 'eval_samples_per_second': 42.011, 'eval_steps_per_second': 5.729, 'epoch': 20.0}\n"
     ]
    },
    {
     "name": "stderr",
     "output_type": "stream",
     "text": [
      " 21%|██        | 1302/6200 [08:13<29:14,  2.79it/s]  ***** Running Evaluation *****\n",
      "  Num examples = 66\n",
      "  Batch size = 8\n",
      "The following columns in the evaluation set don't have a corresponding argument in `BertForSequenceClassification.forward` and have been ignored: __index_level_0__, dna_seq. If __index_level_0__, dna_seq are not expected by `BertForSequenceClassification.forward`,  you can safely ignore this message.\n",
      "                                                   \n",
      " 21%|██        | 1302/6200 [08:15<29:14,  2.79it/s]"
     ]
    },
    {
     "name": "stdout",
     "output_type": "stream",
     "text": [
      "{'eval_loss': 0.26719292998313904, 'eval_mse': 0.26719294370168883, 'eval_runtime': 1.5865, 'eval_samples_per_second': 41.601, 'eval_steps_per_second': 5.673, 'epoch': 21.0}\n"
     ]
    },
    {
     "name": "stderr",
     "output_type": "stream",
     "text": [
      " 22%|██▏       | 1364/6200 [08:37<28:27,  2.83it/s]  ***** Running Evaluation *****\n",
      "  Num examples = 66\n",
      "  Batch size = 8\n",
      "The following columns in the evaluation set don't have a corresponding argument in `BertForSequenceClassification.forward` and have been ignored: __index_level_0__, dna_seq. If __index_level_0__, dna_seq are not expected by `BertForSequenceClassification.forward`,  you can safely ignore this message.\n",
      "                                                   \n",
      " 22%|██▏       | 1364/6200 [08:39<28:27,  2.83it/s]"
     ]
    },
    {
     "name": "stdout",
     "output_type": "stream",
     "text": [
      "{'eval_loss': 0.26857805252075195, 'eval_mse': 0.2685780156626888, 'eval_runtime': 1.574, 'eval_samples_per_second': 41.931, 'eval_steps_per_second': 5.718, 'epoch': 22.0}\n"
     ]
    },
    {
     "name": "stderr",
     "output_type": "stream",
     "text": [
      " 23%|██▎       | 1426/6200 [09:01<28:58,  2.75it/s]  ***** Running Evaluation *****\n",
      "  Num examples = 66\n",
      "  Batch size = 8\n",
      "The following columns in the evaluation set don't have a corresponding argument in `BertForSequenceClassification.forward` and have been ignored: __index_level_0__, dna_seq. If __index_level_0__, dna_seq are not expected by `BertForSequenceClassification.forward`,  you can safely ignore this message.\n",
      "                                                   \n",
      " 23%|██▎       | 1426/6200 [09:03<28:58,  2.75it/s]"
     ]
    },
    {
     "name": "stdout",
     "output_type": "stream",
     "text": [
      "{'eval_loss': 0.2553558945655823, 'eval_mse': 0.2553558371799089, 'eval_runtime': 1.6065, 'eval_samples_per_second': 41.083, 'eval_steps_per_second': 5.602, 'epoch': 23.0}\n"
     ]
    },
    {
     "name": "stderr",
     "output_type": "stream",
     "text": [
      " 24%|██▍       | 1488/6200 [09:25<27:36,  2.84it/s]  ***** Running Evaluation *****\n",
      "  Num examples = 66\n",
      "  Batch size = 8\n",
      "The following columns in the evaluation set don't have a corresponding argument in `BertForSequenceClassification.forward` and have been ignored: __index_level_0__, dna_seq. If __index_level_0__, dna_seq are not expected by `BertForSequenceClassification.forward`,  you can safely ignore this message.\n",
      "                                                   \n",
      " 24%|██▍       | 1488/6200 [09:27<27:36,  2.84it/s]"
     ]
    },
    {
     "name": "stdout",
     "output_type": "stream",
     "text": [
      "{'eval_loss': 0.23679539561271667, 'eval_mse': 0.23679538258930016, 'eval_runtime': 1.5155, 'eval_samples_per_second': 43.55, 'eval_steps_per_second': 5.939, 'epoch': 24.0}\n"
     ]
    },
    {
     "name": "stderr",
     "output_type": "stream",
     "text": [
      " 24%|██▍       | 1500/6200 [09:31<33:32,  2.34it/s]  Saving model checkpoint to weight_model\\checkpoint-1500\n",
      "Configuration saved in weight_model\\checkpoint-1500\\config.json\n"
     ]
    },
    {
     "name": "stdout",
     "output_type": "stream",
     "text": [
      "{'loss': 0.0742, 'learning_rate': 3.7903225806451614e-05, 'epoch': 24.19}\n"
     ]
    },
    {
     "name": "stderr",
     "output_type": "stream",
     "text": [
      "Model weights saved in weight_model\\checkpoint-1500\\pytorch_model.bin\n",
      " 25%|██▌       | 1550/6200 [09:51<27:46,  2.79it/s]  ***** Running Evaluation *****\n",
      "  Num examples = 66\n",
      "  Batch size = 8\n",
      "The following columns in the evaluation set don't have a corresponding argument in `BertForSequenceClassification.forward` and have been ignored: __index_level_0__, dna_seq. If __index_level_0__, dna_seq are not expected by `BertForSequenceClassification.forward`,  you can safely ignore this message.\n",
      "                                                   \n",
      " 25%|██▌       | 1550/6200 [09:52<27:46,  2.79it/s]"
     ]
    },
    {
     "name": "stdout",
     "output_type": "stream",
     "text": [
      "{'eval_loss': 0.24968361854553223, 'eval_mse': 0.24968364299820375, 'eval_runtime': 1.5305, 'eval_samples_per_second': 43.123, 'eval_steps_per_second': 5.88, 'epoch': 25.0}\n"
     ]
    },
    {
     "name": "stderr",
     "output_type": "stream",
     "text": [
      " 26%|██▌       | 1612/6200 [10:14<27:19,  2.80it/s]  ***** Running Evaluation *****\n",
      "  Num examples = 66\n",
      "  Batch size = 8\n",
      "The following columns in the evaluation set don't have a corresponding argument in `BertForSequenceClassification.forward` and have been ignored: __index_level_0__, dna_seq. If __index_level_0__, dna_seq are not expected by `BertForSequenceClassification.forward`,  you can safely ignore this message.\n",
      "                                                   \n",
      " 26%|██▌       | 1612/6200 [10:16<27:19,  2.80it/s]"
     ]
    },
    {
     "name": "stdout",
     "output_type": "stream",
     "text": [
      "{'eval_loss': 0.31311702728271484, 'eval_mse': 0.31311699705547846, 'eval_runtime': 1.5717, 'eval_samples_per_second': 41.993, 'eval_steps_per_second': 5.726, 'epoch': 26.0}\n"
     ]
    },
    {
     "name": "stderr",
     "output_type": "stream",
     "text": [
      " 27%|██▋       | 1674/6200 [10:38<26:59,  2.79it/s]  ***** Running Evaluation *****\n",
      "  Num examples = 66\n",
      "  Batch size = 8\n",
      "The following columns in the evaluation set don't have a corresponding argument in `BertForSequenceClassification.forward` and have been ignored: __index_level_0__, dna_seq. If __index_level_0__, dna_seq are not expected by `BertForSequenceClassification.forward`,  you can safely ignore this message.\n",
      "                                                   \n",
      " 27%|██▋       | 1674/6200 [10:39<26:59,  2.79it/s]"
     ]
    },
    {
     "name": "stdout",
     "output_type": "stream",
     "text": [
      "{'eval_loss': 0.24742935597896576, 'eval_mse': 0.24742936981031427, 'eval_runtime': 1.5285, 'eval_samples_per_second': 43.18, 'eval_steps_per_second': 5.888, 'epoch': 27.0}\n"
     ]
    },
    {
     "name": "stderr",
     "output_type": "stream",
     "text": [
      " 28%|██▊       | 1736/6200 [11:01<26:36,  2.80it/s]  ***** Running Evaluation *****\n",
      "  Num examples = 66\n",
      "  Batch size = 8\n",
      "The following columns in the evaluation set don't have a corresponding argument in `BertForSequenceClassification.forward` and have been ignored: __index_level_0__, dna_seq. If __index_level_0__, dna_seq are not expected by `BertForSequenceClassification.forward`,  you can safely ignore this message.\n",
      "                                                   \n",
      " 28%|██▊       | 1736/6200 [11:03<26:36,  2.80it/s]"
     ]
    },
    {
     "name": "stdout",
     "output_type": "stream",
     "text": [
      "{'eval_loss': 0.23791782557964325, 'eval_mse': 0.2379178277467257, 'eval_runtime': 1.5395, 'eval_samples_per_second': 42.871, 'eval_steps_per_second': 5.846, 'epoch': 28.0}\n"
     ]
    },
    {
     "name": "stderr",
     "output_type": "stream",
     "text": [
      " 29%|██▉       | 1798/6200 [11:25<26:14,  2.80it/s]  ***** Running Evaluation *****\n",
      "  Num examples = 66\n",
      "  Batch size = 8\n",
      "The following columns in the evaluation set don't have a corresponding argument in `BertForSequenceClassification.forward` and have been ignored: __index_level_0__, dna_seq. If __index_level_0__, dna_seq are not expected by `BertForSequenceClassification.forward`,  you can safely ignore this message.\n",
      "                                                   \n",
      " 29%|██▉       | 1798/6200 [11:27<26:14,  2.80it/s]"
     ]
    },
    {
     "name": "stdout",
     "output_type": "stream",
     "text": [
      "{'eval_loss': 0.2611488401889801, 'eval_mse': 0.26114882006561535, 'eval_runtime': 1.581, 'eval_samples_per_second': 41.746, 'eval_steps_per_second': 5.693, 'epoch': 29.0}\n"
     ]
    },
    {
     "name": "stderr",
     "output_type": "stream",
     "text": [
      " 30%|███       | 1860/6200 [11:49<25:57,  2.79it/s]  ***** Running Evaluation *****\n",
      "  Num examples = 66\n",
      "  Batch size = 8\n",
      "The following columns in the evaluation set don't have a corresponding argument in `BertForSequenceClassification.forward` and have been ignored: __index_level_0__, dna_seq. If __index_level_0__, dna_seq are not expected by `BertForSequenceClassification.forward`,  you can safely ignore this message.\n",
      "                                                   \n",
      " 30%|███       | 1860/6200 [11:51<25:57,  2.79it/s]"
     ]
    },
    {
     "name": "stdout",
     "output_type": "stream",
     "text": [
      "{'eval_loss': 0.2811848819255829, 'eval_mse': 0.28118488096026406, 'eval_runtime': 1.5355, 'eval_samples_per_second': 42.983, 'eval_steps_per_second': 5.861, 'epoch': 30.0}\n"
     ]
    },
    {
     "name": "stderr",
     "output_type": "stream",
     "text": [
      " 31%|███       | 1922/6200 [12:13<25:43,  2.77it/s]***** Running Evaluation *****\n",
      "  Num examples = 66\n",
      "  Batch size = 8\n",
      "The following columns in the evaluation set don't have a corresponding argument in `BertForSequenceClassification.forward` and have been ignored: __index_level_0__, dna_seq. If __index_level_0__, dna_seq are not expected by `BertForSequenceClassification.forward`,  you can safely ignore this message.\n",
      "                                                   \n",
      " 31%|███       | 1922/6200 [12:14<25:43,  2.77it/s]"
     ]
    },
    {
     "name": "stdout",
     "output_type": "stream",
     "text": [
      "{'eval_loss': 0.28054365515708923, 'eval_mse': 0.28054365479580207, 'eval_runtime': 1.538, 'eval_samples_per_second': 42.913, 'eval_steps_per_second': 5.852, 'epoch': 31.0}\n"
     ]
    },
    {
     "name": "stderr",
     "output_type": "stream",
     "text": [
      " 32%|███▏      | 1984/6200 [12:36<24:51,  2.83it/s]***** Running Evaluation *****\n",
      "  Num examples = 66\n",
      "  Batch size = 8\n",
      "The following columns in the evaluation set don't have a corresponding argument in `BertForSequenceClassification.forward` and have been ignored: __index_level_0__, dna_seq. If __index_level_0__, dna_seq are not expected by `BertForSequenceClassification.forward`,  you can safely ignore this message.\n",
      "                                                   \n",
      " 32%|███▏      | 1984/6200 [12:38<24:51,  2.83it/s]"
     ]
    },
    {
     "name": "stdout",
     "output_type": "stream",
     "text": [
      "{'eval_loss': 0.27158284187316895, 'eval_mse': 0.2715828471467025, 'eval_runtime': 1.5155, 'eval_samples_per_second': 43.55, 'eval_steps_per_second': 5.939, 'epoch': 32.0}\n"
     ]
    },
    {
     "name": "stderr",
     "output_type": "stream",
     "text": [
      " 32%|███▏      | 2000/6200 [12:43<30:20,  2.31it/s]Saving model checkpoint to weight_model\\checkpoint-2000\n",
      "Configuration saved in weight_model\\checkpoint-2000\\config.json\n"
     ]
    },
    {
     "name": "stdout",
     "output_type": "stream",
     "text": [
      "{'loss': 0.0399, 'learning_rate': 3.387096774193548e-05, 'epoch': 32.26}\n"
     ]
    },
    {
     "name": "stderr",
     "output_type": "stream",
     "text": [
      "Model weights saved in weight_model\\checkpoint-2000\\pytorch_model.bin\n",
      " 33%|███▎      | 2046/6200 [13:02<24:48,  2.79it/s]  ***** Running Evaluation *****\n",
      "  Num examples = 66\n",
      "  Batch size = 8\n",
      "The following columns in the evaluation set don't have a corresponding argument in `BertForSequenceClassification.forward` and have been ignored: __index_level_0__, dna_seq. If __index_level_0__, dna_seq are not expected by `BertForSequenceClassification.forward`,  you can safely ignore this message.\n",
      "                                                   \n",
      " 33%|███▎      | 2046/6200 [13:04<24:48,  2.79it/s]"
     ]
    },
    {
     "name": "stdout",
     "output_type": "stream",
     "text": [
      "{'eval_loss': 0.2723665237426758, 'eval_mse': 0.27236656669393755, 'eval_runtime': 1.5295, 'eval_samples_per_second': 43.151, 'eval_steps_per_second': 5.884, 'epoch': 33.0}\n"
     ]
    },
    {
     "name": "stderr",
     "output_type": "stream",
     "text": [
      " 34%|███▍      | 2108/6200 [13:25<24:00,  2.84it/s]***** Running Evaluation *****\n",
      "  Num examples = 66\n",
      "  Batch size = 8\n",
      "The following columns in the evaluation set don't have a corresponding argument in `BertForSequenceClassification.forward` and have been ignored: __index_level_0__, dna_seq. If __index_level_0__, dna_seq are not expected by `BertForSequenceClassification.forward`,  you can safely ignore this message.\n",
      "                                                   \n",
      " 34%|███▍      | 2108/6200 [13:27<24:00,  2.84it/s]"
     ]
    },
    {
     "name": "stdout",
     "output_type": "stream",
     "text": [
      "{'eval_loss': 0.2568572461605072, 'eval_mse': 0.2568572410410528, 'eval_runtime': 1.5055, 'eval_samples_per_second': 43.839, 'eval_steps_per_second': 5.978, 'epoch': 34.0}\n"
     ]
    },
    {
     "name": "stderr",
     "output_type": "stream",
     "text": [
      " 35%|███▌      | 2170/6200 [13:49<23:36,  2.84it/s]***** Running Evaluation *****\n",
      "  Num examples = 66\n",
      "  Batch size = 8\n",
      "The following columns in the evaluation set don't have a corresponding argument in `BertForSequenceClassification.forward` and have been ignored: __index_level_0__, dna_seq. If __index_level_0__, dna_seq are not expected by `BertForSequenceClassification.forward`,  you can safely ignore this message.\n",
      "                                                   \n",
      " 35%|███▌      | 2170/6200 [13:51<23:36,  2.84it/s]"
     ]
    },
    {
     "name": "stdout",
     "output_type": "stream",
     "text": [
      "{'eval_loss': 0.28135794401168823, 'eval_mse': 0.2813579072991146, 'eval_runtime': 1.546, 'eval_samples_per_second': 42.691, 'eval_steps_per_second': 5.821, 'epoch': 35.0}\n"
     ]
    },
    {
     "name": "stderr",
     "output_type": "stream",
     "text": [
      " 36%|███▌      | 2232/6200 [14:13<23:06,  2.86it/s]***** Running Evaluation *****\n",
      "  Num examples = 66\n",
      "  Batch size = 8\n",
      "The following columns in the evaluation set don't have a corresponding argument in `BertForSequenceClassification.forward` and have been ignored: __index_level_0__, dna_seq. If __index_level_0__, dna_seq are not expected by `BertForSequenceClassification.forward`,  you can safely ignore this message.\n",
      "                                                   \n",
      " 36%|███▌      | 2232/6200 [14:14<23:06,  2.86it/s]"
     ]
    },
    {
     "name": "stdout",
     "output_type": "stream",
     "text": [
      "{'eval_loss': 0.2681136131286621, 'eval_mse': 0.2681136503924385, 'eval_runtime': 1.5215, 'eval_samples_per_second': 43.378, 'eval_steps_per_second': 5.915, 'epoch': 36.0}\n"
     ]
    },
    {
     "name": "stderr",
     "output_type": "stream",
     "text": [
      " 37%|███▋      | 2294/6200 [14:36<23:00,  2.83it/s]***** Running Evaluation *****\n",
      "  Num examples = 66\n",
      "  Batch size = 8\n",
      "The following columns in the evaluation set don't have a corresponding argument in `BertForSequenceClassification.forward` and have been ignored: __index_level_0__, dna_seq. If __index_level_0__, dna_seq are not expected by `BertForSequenceClassification.forward`,  you can safely ignore this message.\n",
      "                                                   \n",
      " 37%|███▋      | 2294/6200 [14:38<23:00,  2.83it/s]"
     ]
    },
    {
     "name": "stdout",
     "output_type": "stream",
     "text": [
      "{'eval_loss': 0.26062265038490295, 'eval_mse': 0.26062268965710716, 'eval_runtime': 1.5395, 'eval_samples_per_second': 42.871, 'eval_steps_per_second': 5.846, 'epoch': 37.0}\n"
     ]
    },
    {
     "name": "stderr",
     "output_type": "stream",
     "text": [
      " 38%|███▊      | 2356/6200 [15:00<23:13,  2.76it/s]***** Running Evaluation *****\n",
      "  Num examples = 66\n",
      "  Batch size = 8\n",
      "The following columns in the evaluation set don't have a corresponding argument in `BertForSequenceClassification.forward` and have been ignored: __index_level_0__, dna_seq. If __index_level_0__, dna_seq are not expected by `BertForSequenceClassification.forward`,  you can safely ignore this message.\n",
      "                                                   \n",
      " 38%|███▊      | 2356/6200 [15:02<23:13,  2.76it/s]"
     ]
    },
    {
     "name": "stdout",
     "output_type": "stream",
     "text": [
      "{'eval_loss': 0.26706066727638245, 'eval_mse': 0.26706068535716226, 'eval_runtime': 1.5655, 'eval_samples_per_second': 42.159, 'eval_steps_per_second': 5.749, 'epoch': 38.0}\n"
     ]
    },
    {
     "name": "stderr",
     "output_type": "stream",
     "text": [
      " 39%|███▉      | 2418/6200 [15:24<22:21,  2.82it/s]***** Running Evaluation *****\n",
      "  Num examples = 66\n",
      "  Batch size = 8\n",
      "The following columns in the evaluation set don't have a corresponding argument in `BertForSequenceClassification.forward` and have been ignored: __index_level_0__, dna_seq. If __index_level_0__, dna_seq are not expected by `BertForSequenceClassification.forward`,  you can safely ignore this message.\n",
      "                                                   \n",
      " 39%|███▉      | 2418/6200 [15:26<22:21,  2.82it/s]"
     ]
    },
    {
     "name": "stdout",
     "output_type": "stream",
     "text": [
      "{'eval_loss': 0.2857484519481659, 'eval_mse': 0.2857484589709643, 'eval_runtime': 1.534, 'eval_samples_per_second': 43.024, 'eval_steps_per_second': 5.867, 'epoch': 39.0}\n"
     ]
    },
    {
     "name": "stderr",
     "output_type": "stream",
     "text": [
      " 40%|████      | 2480/6200 [15:48<21:52,  2.83it/s]***** Running Evaluation *****\n",
      "  Num examples = 66\n",
      "  Batch size = 8\n",
      "The following columns in the evaluation set don't have a corresponding argument in `BertForSequenceClassification.forward` and have been ignored: __index_level_0__, dna_seq. If __index_level_0__, dna_seq are not expected by `BertForSequenceClassification.forward`,  you can safely ignore this message.\n",
      "                                                   \n",
      " 40%|████      | 2480/6200 [15:49<21:52,  2.83it/s]"
     ]
    },
    {
     "name": "stdout",
     "output_type": "stream",
     "text": [
      "{'eval_loss': 0.2741512060165405, 'eval_mse': 0.27415122274658105, 'eval_runtime': 1.5405, 'eval_samples_per_second': 42.843, 'eval_steps_per_second': 5.842, 'epoch': 40.0}\n"
     ]
    },
    {
     "name": "stderr",
     "output_type": "stream",
     "text": [
      " 40%|████      | 2500/6200 [15:57<26:20,  2.34it/s]Saving model checkpoint to weight_model\\checkpoint-2500\n",
      "Configuration saved in weight_model\\checkpoint-2500\\config.json\n"
     ]
    },
    {
     "name": "stdout",
     "output_type": "stream",
     "text": [
      "{'loss': 0.0269, 'learning_rate': 2.9838709677419357e-05, 'epoch': 40.32}\n"
     ]
    },
    {
     "name": "stderr",
     "output_type": "stream",
     "text": [
      "Model weights saved in weight_model\\checkpoint-2500\\pytorch_model.bin\n",
      " 41%|████      | 2542/6200 [16:14<21:44,  2.80it/s]  ***** Running Evaluation *****\n",
      "  Num examples = 66\n",
      "  Batch size = 8\n",
      "The following columns in the evaluation set don't have a corresponding argument in `BertForSequenceClassification.forward` and have been ignored: __index_level_0__, dna_seq. If __index_level_0__, dna_seq are not expected by `BertForSequenceClassification.forward`,  you can safely ignore this message.\n",
      "                                                   \n",
      " 41%|████      | 2542/6200 [16:15<21:44,  2.80it/s]"
     ]
    },
    {
     "name": "stdout",
     "output_type": "stream",
     "text": [
      "{'eval_loss': 0.30120086669921875, 'eval_mse': 0.3012008809094773, 'eval_runtime': 1.5245, 'eval_samples_per_second': 43.293, 'eval_steps_per_second': 5.904, 'epoch': 41.0}\n"
     ]
    },
    {
     "name": "stderr",
     "output_type": "stream",
     "text": [
      " 42%|████▏     | 2604/6200 [16:37<21:01,  2.85it/s]***** Running Evaluation *****\n",
      "  Num examples = 66\n",
      "  Batch size = 8\n",
      "The following columns in the evaluation set don't have a corresponding argument in `BertForSequenceClassification.forward` and have been ignored: __index_level_0__, dna_seq. If __index_level_0__, dna_seq are not expected by `BertForSequenceClassification.forward`,  you can safely ignore this message.\n",
      "                                                   \n",
      " 42%|████▏     | 2604/6200 [16:39<21:01,  2.85it/s]"
     ]
    },
    {
     "name": "stdout",
     "output_type": "stream",
     "text": [
      "{'eval_loss': 0.2836775481700897, 'eval_mse': 0.2836775508200668, 'eval_runtime': 1.553, 'eval_samples_per_second': 42.498, 'eval_steps_per_second': 5.795, 'epoch': 42.0}\n"
     ]
    },
    {
     "name": "stderr",
     "output_type": "stream",
     "text": [
      " 43%|████▎     | 2666/6200 [17:01<21:16,  2.77it/s]***** Running Evaluation *****\n",
      "  Num examples = 66\n",
      "  Batch size = 8\n",
      "The following columns in the evaluation set don't have a corresponding argument in `BertForSequenceClassification.forward` and have been ignored: __index_level_0__, dna_seq. If __index_level_0__, dna_seq are not expected by `BertForSequenceClassification.forward`,  you can safely ignore this message.\n",
      "                                                   \n",
      " 43%|████▎     | 2666/6200 [17:03<21:16,  2.77it/s]"
     ]
    },
    {
     "name": "stdout",
     "output_type": "stream",
     "text": [
      "{'eval_loss': 0.2770354151725769, 'eval_mse': 0.2770354096781332, 'eval_runtime': 1.537, 'eval_samples_per_second': 42.941, 'eval_steps_per_second': 5.856, 'epoch': 43.0}\n"
     ]
    },
    {
     "name": "stderr",
     "output_type": "stream",
     "text": [
      " 44%|████▍     | 2728/6200 [17:25<21:22,  2.71it/s]***** Running Evaluation *****\n",
      "  Num examples = 66\n",
      "  Batch size = 8\n",
      "The following columns in the evaluation set don't have a corresponding argument in `BertForSequenceClassification.forward` and have been ignored: __index_level_0__, dna_seq. If __index_level_0__, dna_seq are not expected by `BertForSequenceClassification.forward`,  you can safely ignore this message.\n",
      "                                                   \n",
      " 44%|████▍     | 2728/6200 [17:26<21:22,  2.71it/s]"
     ]
    },
    {
     "name": "stdout",
     "output_type": "stream",
     "text": [
      "{'eval_loss': 0.2899044454097748, 'eval_mse': 0.28990443108085295, 'eval_runtime': 1.536, 'eval_samples_per_second': 42.969, 'eval_steps_per_second': 5.859, 'epoch': 44.0}\n"
     ]
    },
    {
     "name": "stderr",
     "output_type": "stream",
     "text": [
      " 45%|████▌     | 2790/6200 [17:49<20:29,  2.77it/s]***** Running Evaluation *****\n",
      "  Num examples = 66\n",
      "  Batch size = 8\n",
      "The following columns in the evaluation set don't have a corresponding argument in `BertForSequenceClassification.forward` and have been ignored: __index_level_0__, dna_seq. If __index_level_0__, dna_seq are not expected by `BertForSequenceClassification.forward`,  you can safely ignore this message.\n",
      "                                                   \n",
      " 45%|████▌     | 2790/6200 [17:50<20:29,  2.77it/s]"
     ]
    },
    {
     "name": "stdout",
     "output_type": "stream",
     "text": [
      "{'eval_loss': 0.28235673904418945, 'eval_mse': 0.28235674170896646, 'eval_runtime': 1.5475, 'eval_samples_per_second': 42.649, 'eval_steps_per_second': 5.816, 'epoch': 45.0}\n"
     ]
    },
    {
     "name": "stderr",
     "output_type": "stream",
     "text": [
      " 46%|████▌     | 2852/6200 [18:12<19:29,  2.86it/s]***** Running Evaluation *****\n",
      "  Num examples = 66\n",
      "  Batch size = 8\n",
      "The following columns in the evaluation set don't have a corresponding argument in `BertForSequenceClassification.forward` and have been ignored: __index_level_0__, dna_seq. If __index_level_0__, dna_seq are not expected by `BertForSequenceClassification.forward`,  you can safely ignore this message.\n",
      "                                                   \n",
      " 46%|████▌     | 2852/6200 [18:14<19:29,  2.86it/s]"
     ]
    },
    {
     "name": "stdout",
     "output_type": "stream",
     "text": [
      "{'eval_loss': 0.2644977867603302, 'eval_mse': 0.2644977757454564, 'eval_runtime': 1.533, 'eval_samples_per_second': 43.053, 'eval_steps_per_second': 5.871, 'epoch': 46.0}\n"
     ]
    },
    {
     "name": "stderr",
     "output_type": "stream",
     "text": [
      " 47%|████▋     | 2914/6200 [18:36<19:27,  2.81it/s]***** Running Evaluation *****\n",
      "  Num examples = 66\n",
      "  Batch size = 8\n",
      "The following columns in the evaluation set don't have a corresponding argument in `BertForSequenceClassification.forward` and have been ignored: __index_level_0__, dna_seq. If __index_level_0__, dna_seq are not expected by `BertForSequenceClassification.forward`,  you can safely ignore this message.\n",
      "                                                   \n",
      " 47%|████▋     | 2914/6200 [18:37<19:27,  2.81it/s]"
     ]
    },
    {
     "name": "stdout",
     "output_type": "stream",
     "text": [
      "{'eval_loss': 0.2913849949836731, 'eval_mse': 0.29138495868172676, 'eval_runtime': 1.5505, 'eval_samples_per_second': 42.567, 'eval_steps_per_second': 5.805, 'epoch': 47.0}\n"
     ]
    },
    {
     "name": "stderr",
     "output_type": "stream",
     "text": [
      " 48%|████▊     | 2976/6200 [19:00<20:09,  2.67it/s]***** Running Evaluation *****\n",
      "  Num examples = 66\n",
      "  Batch size = 8\n",
      "The following columns in the evaluation set don't have a corresponding argument in `BertForSequenceClassification.forward` and have been ignored: __index_level_0__, dna_seq. If __index_level_0__, dna_seq are not expected by `BertForSequenceClassification.forward`,  you can safely ignore this message.\n",
      "                                                   \n",
      " 48%|████▊     | 2976/6200 [19:02<20:09,  2.67it/s]"
     ]
    },
    {
     "name": "stdout",
     "output_type": "stream",
     "text": [
      "{'eval_loss': 0.29058605432510376, 'eval_mse': 0.29058608322476775, 'eval_runtime': 1.6055, 'eval_samples_per_second': 41.109, 'eval_steps_per_second': 5.606, 'epoch': 48.0}\n"
     ]
    },
    {
     "name": "stderr",
     "output_type": "stream",
     "text": [
      " 48%|████▊     | 3000/6200 [19:11<22:46,  2.34it/s]Saving model checkpoint to weight_model\\checkpoint-3000\n",
      "Configuration saved in weight_model\\checkpoint-3000\\config.json\n"
     ]
    },
    {
     "name": "stdout",
     "output_type": "stream",
     "text": [
      "{'loss': 0.0195, 'learning_rate': 2.5806451612903226e-05, 'epoch': 48.39}\n"
     ]
    },
    {
     "name": "stderr",
     "output_type": "stream",
     "text": [
      "Model weights saved in weight_model\\checkpoint-3000\\pytorch_model.bin\n",
      " 49%|████▉     | 3038/6200 [19:26<18:59,  2.77it/s]***** Running Evaluation *****\n",
      "  Num examples = 66\n",
      "  Batch size = 8\n",
      "The following columns in the evaluation set don't have a corresponding argument in `BertForSequenceClassification.forward` and have been ignored: __index_level_0__, dna_seq. If __index_level_0__, dna_seq are not expected by `BertForSequenceClassification.forward`,  you can safely ignore this message.\n",
      "                                                   \n",
      " 49%|████▉     | 3038/6200 [19:28<18:59,  2.77it/s]"
     ]
    },
    {
     "name": "stdout",
     "output_type": "stream",
     "text": [
      "{'eval_loss': 0.2782214879989624, 'eval_mse': 0.27822148231648824, 'eval_runtime': 1.57, 'eval_samples_per_second': 42.038, 'eval_steps_per_second': 5.733, 'epoch': 49.0}\n"
     ]
    },
    {
     "name": "stderr",
     "output_type": "stream",
     "text": [
      " 50%|█████     | 3100/6200 [19:50<18:34,  2.78it/s]***** Running Evaluation *****\n",
      "  Num examples = 66\n",
      "  Batch size = 8\n",
      "The following columns in the evaluation set don't have a corresponding argument in `BertForSequenceClassification.forward` and have been ignored: __index_level_0__, dna_seq. If __index_level_0__, dna_seq are not expected by `BertForSequenceClassification.forward`,  you can safely ignore this message.\n",
      "                                                   \n",
      " 50%|█████     | 3100/6200 [19:51<18:34,  2.78it/s]"
     ]
    },
    {
     "name": "stdout",
     "output_type": "stream",
     "text": [
      "{'eval_loss': 0.2705472409725189, 'eval_mse': 0.2705471911003616, 'eval_runtime': 1.569, 'eval_samples_per_second': 42.065, 'eval_steps_per_second': 5.736, 'epoch': 50.0}\n"
     ]
    },
    {
     "name": "stderr",
     "output_type": "stream",
     "text": [
      " 51%|█████     | 3162/6200 [20:14<18:25,  2.75it/s]***** Running Evaluation *****\n",
      "  Num examples = 66\n",
      "  Batch size = 8\n",
      "The following columns in the evaluation set don't have a corresponding argument in `BertForSequenceClassification.forward` and have been ignored: __index_level_0__, dna_seq. If __index_level_0__, dna_seq are not expected by `BertForSequenceClassification.forward`,  you can safely ignore this message.\n",
      "                                                   \n",
      " 51%|█████     | 3162/6200 [20:16<18:25,  2.75it/s]"
     ]
    },
    {
     "name": "stdout",
     "output_type": "stream",
     "text": [
      "{'eval_loss': 0.2930099368095398, 'eval_mse': 0.29300992127918324, 'eval_runtime': 1.5715, 'eval_samples_per_second': 41.998, 'eval_steps_per_second': 5.727, 'epoch': 51.0}\n"
     ]
    },
    {
     "name": "stderr",
     "output_type": "stream",
     "text": [
      " 52%|█████▏    | 3224/6200 [20:38<18:13,  2.72it/s]***** Running Evaluation *****\n",
      "  Num examples = 66\n",
      "  Batch size = 8\n",
      "The following columns in the evaluation set don't have a corresponding argument in `BertForSequenceClassification.forward` and have been ignored: __index_level_0__, dna_seq. If __index_level_0__, dna_seq are not expected by `BertForSequenceClassification.forward`,  you can safely ignore this message.\n",
      "                                                   \n",
      " 52%|█████▏    | 3224/6200 [20:40<18:13,  2.72it/s]"
     ]
    },
    {
     "name": "stdout",
     "output_type": "stream",
     "text": [
      "{'eval_loss': 0.3166518211364746, 'eval_mse': 0.3166518354294238, 'eval_runtime': 1.5695, 'eval_samples_per_second': 42.052, 'eval_steps_per_second': 5.734, 'epoch': 52.0}\n"
     ]
    },
    {
     "name": "stderr",
     "output_type": "stream",
     "text": [
      " 53%|█████▎    | 3286/6200 [21:02<17:48,  2.73it/s]***** Running Evaluation *****\n",
      "  Num examples = 66\n",
      "  Batch size = 8\n",
      "The following columns in the evaluation set don't have a corresponding argument in `BertForSequenceClassification.forward` and have been ignored: __index_level_0__, dna_seq. If __index_level_0__, dna_seq are not expected by `BertForSequenceClassification.forward`,  you can safely ignore this message.\n",
      "                                                   \n",
      " 53%|█████▎    | 3286/6200 [21:04<17:48,  2.73it/s]"
     ]
    },
    {
     "name": "stdout",
     "output_type": "stream",
     "text": [
      "{'eval_loss': 0.28147706389427185, 'eval_mse': 0.2814770906746398, 'eval_runtime': 1.584, 'eval_samples_per_second': 41.667, 'eval_steps_per_second': 5.682, 'epoch': 53.0}\n"
     ]
    },
    {
     "name": "stderr",
     "output_type": "stream",
     "text": [
      " 54%|█████▍    | 3348/6200 [21:27<17:33,  2.71it/s]***** Running Evaluation *****\n",
      "  Num examples = 66\n",
      "  Batch size = 8\n",
      "The following columns in the evaluation set don't have a corresponding argument in `BertForSequenceClassification.forward` and have been ignored: __index_level_0__, dna_seq. If __index_level_0__, dna_seq are not expected by `BertForSequenceClassification.forward`,  you can safely ignore this message.\n",
      "                                                   \n",
      " 54%|█████▍    | 3348/6200 [21:28<17:33,  2.71it/s]"
     ]
    },
    {
     "name": "stdout",
     "output_type": "stream",
     "text": [
      "{'eval_loss': 0.30783936381340027, 'eval_mse': 0.3078393704538831, 'eval_runtime': 1.5935, 'eval_samples_per_second': 41.418, 'eval_steps_per_second': 5.648, 'epoch': 54.0}\n"
     ]
    },
    {
     "name": "stderr",
     "output_type": "stream",
     "text": [
      " 55%|█████▌    | 3410/6200 [21:51<16:47,  2.77it/s]***** Running Evaluation *****\n",
      "  Num examples = 66\n",
      "  Batch size = 8\n",
      "The following columns in the evaluation set don't have a corresponding argument in `BertForSequenceClassification.forward` and have been ignored: __index_level_0__, dna_seq. If __index_level_0__, dna_seq are not expected by `BertForSequenceClassification.forward`,  you can safely ignore this message.\n",
      "                                                   \n",
      " 55%|█████▌    | 3410/6200 [21:52<16:47,  2.77it/s]"
     ]
    },
    {
     "name": "stdout",
     "output_type": "stream",
     "text": [
      "{'eval_loss': 0.274935781955719, 'eval_mse': 0.2749358335301118, 'eval_runtime': 1.5295, 'eval_samples_per_second': 43.151, 'eval_steps_per_second': 5.884, 'epoch': 55.0}\n"
     ]
    },
    {
     "name": "stderr",
     "output_type": "stream",
     "text": [
      " 56%|█████▌    | 3472/6200 [22:15<16:33,  2.75it/s]***** Running Evaluation *****\n",
      "  Num examples = 66\n",
      "  Batch size = 8\n",
      "The following columns in the evaluation set don't have a corresponding argument in `BertForSequenceClassification.forward` and have been ignored: __index_level_0__, dna_seq. If __index_level_0__, dna_seq are not expected by `BertForSequenceClassification.forward`,  you can safely ignore this message.\n",
      "                                                   \n",
      " 56%|█████▌    | 3472/6200 [22:16<16:33,  2.75it/s]"
     ]
    },
    {
     "name": "stdout",
     "output_type": "stream",
     "text": [
      "{'eval_loss': 0.29286450147628784, 'eval_mse': 0.2928645167262492, 'eval_runtime': 1.5585, 'eval_samples_per_second': 42.348, 'eval_steps_per_second': 5.775, 'epoch': 56.0}\n"
     ]
    },
    {
     "name": "stderr",
     "output_type": "stream",
     "text": [
      " 56%|█████▋    | 3500/6200 [22:27<18:54,  2.38it/s]Saving model checkpoint to weight_model\\checkpoint-3500\n",
      "Configuration saved in weight_model\\checkpoint-3500\\config.json\n"
     ]
    },
    {
     "name": "stdout",
     "output_type": "stream",
     "text": [
      "{'loss': 0.0168, 'learning_rate': 2.1774193548387097e-05, 'epoch': 56.45}\n"
     ]
    },
    {
     "name": "stderr",
     "output_type": "stream",
     "text": [
      "Model weights saved in weight_model\\checkpoint-3500\\pytorch_model.bin\n",
      " 57%|█████▋    | 3534/6200 [22:40<15:46,  2.82it/s]***** Running Evaluation *****\n",
      "  Num examples = 66\n",
      "  Batch size = 8\n",
      "The following columns in the evaluation set don't have a corresponding argument in `BertForSequenceClassification.forward` and have been ignored: __index_level_0__, dna_seq. If __index_level_0__, dna_seq are not expected by `BertForSequenceClassification.forward`,  you can safely ignore this message.\n",
      "                                                   \n",
      " 57%|█████▋    | 3534/6200 [22:42<15:46,  2.82it/s]"
     ]
    },
    {
     "name": "stdout",
     "output_type": "stream",
     "text": [
      "{'eval_loss': 0.29644128680229187, 'eval_mse': 0.29644123989213006, 'eval_runtime': 1.528, 'eval_samples_per_second': 43.194, 'eval_steps_per_second': 5.89, 'epoch': 57.0}\n"
     ]
    },
    {
     "name": "stderr",
     "output_type": "stream",
     "text": [
      " 58%|█████▊    | 3596/6200 [23:04<15:36,  2.78it/s]***** Running Evaluation *****\n",
      "  Num examples = 66\n",
      "  Batch size = 8\n",
      "The following columns in the evaluation set don't have a corresponding argument in `BertForSequenceClassification.forward` and have been ignored: __index_level_0__, dna_seq. If __index_level_0__, dna_seq are not expected by `BertForSequenceClassification.forward`,  you can safely ignore this message.\n",
      "                                                   \n",
      " 58%|█████▊    | 3596/6200 [23:05<15:36,  2.78it/s]"
     ]
    },
    {
     "name": "stdout",
     "output_type": "stream",
     "text": [
      "{'eval_loss': 0.3068654239177704, 'eval_mse': 0.3068654844721643, 'eval_runtime': 1.541, 'eval_samples_per_second': 42.829, 'eval_steps_per_second': 5.84, 'epoch': 58.0}\n"
     ]
    },
    {
     "name": "stderr",
     "output_type": "stream",
     "text": [
      " 59%|█████▉    | 3658/6200 [23:27<14:51,  2.85it/s]***** Running Evaluation *****\n",
      "  Num examples = 66\n",
      "  Batch size = 8\n",
      "The following columns in the evaluation set don't have a corresponding argument in `BertForSequenceClassification.forward` and have been ignored: __index_level_0__, dna_seq. If __index_level_0__, dna_seq are not expected by `BertForSequenceClassification.forward`,  you can safely ignore this message.\n",
      "                                                   \n",
      " 59%|█████▉    | 3658/6200 [23:29<14:51,  2.85it/s]"
     ]
    },
    {
     "name": "stdout",
     "output_type": "stream",
     "text": [
      "{'eval_loss': 0.30422353744506836, 'eval_mse': 0.3042235458771762, 'eval_runtime': 1.5471, 'eval_samples_per_second': 42.66, 'eval_steps_per_second': 5.817, 'epoch': 59.0}\n"
     ]
    },
    {
     "name": "stderr",
     "output_type": "stream",
     "text": [
      " 60%|██████    | 3720/6200 [23:51<14:43,  2.81it/s]***** Running Evaluation *****\n",
      "  Num examples = 66\n",
      "  Batch size = 8\n",
      "The following columns in the evaluation set don't have a corresponding argument in `BertForSequenceClassification.forward` and have been ignored: __index_level_0__, dna_seq. If __index_level_0__, dna_seq are not expected by `BertForSequenceClassification.forward`,  you can safely ignore this message.\n",
      "                                                   \n",
      " 60%|██████    | 3720/6200 [23:52<14:43,  2.81it/s]"
     ]
    },
    {
     "name": "stdout",
     "output_type": "stream",
     "text": [
      "{'eval_loss': 0.28254833817481995, 'eval_mse': 0.2825483187957392, 'eval_runtime': 1.529, 'eval_samples_per_second': 43.166, 'eval_steps_per_second': 5.886, 'epoch': 60.0}\n"
     ]
    },
    {
     "name": "stderr",
     "output_type": "stream",
     "text": [
      " 61%|██████    | 3782/6200 [24:14<14:11,  2.84it/s]***** Running Evaluation *****\n",
      "  Num examples = 66\n",
      "  Batch size = 8\n",
      "The following columns in the evaluation set don't have a corresponding argument in `BertForSequenceClassification.forward` and have been ignored: __index_level_0__, dna_seq. If __index_level_0__, dna_seq are not expected by `BertForSequenceClassification.forward`,  you can safely ignore this message.\n",
      "                                                   \n",
      " 61%|██████    | 3782/6200 [24:16<14:11,  2.84it/s]"
     ]
    },
    {
     "name": "stdout",
     "output_type": "stream",
     "text": [
      "{'eval_loss': 0.2972120940685272, 'eval_mse': 0.2972120916126366, 'eval_runtime': 1.536, 'eval_samples_per_second': 42.969, 'eval_steps_per_second': 5.859, 'epoch': 61.0}\n"
     ]
    },
    {
     "name": "stderr",
     "output_type": "stream",
     "text": [
      " 62%|██████▏   | 3844/6200 [24:38<13:58,  2.81it/s]***** Running Evaluation *****\n",
      "  Num examples = 66\n",
      "  Batch size = 8\n",
      "The following columns in the evaluation set don't have a corresponding argument in `BertForSequenceClassification.forward` and have been ignored: __index_level_0__, dna_seq. If __index_level_0__, dna_seq are not expected by `BertForSequenceClassification.forward`,  you can safely ignore this message.\n",
      "                                                   \n",
      " 62%|██████▏   | 3844/6200 [24:39<13:58,  2.81it/s]"
     ]
    },
    {
     "name": "stdout",
     "output_type": "stream",
     "text": [
      "{'eval_loss': 0.27489718794822693, 'eval_mse': 0.27489719561396797, 'eval_runtime': 1.5335, 'eval_samples_per_second': 43.039, 'eval_steps_per_second': 5.869, 'epoch': 62.0}\n"
     ]
    },
    {
     "name": "stderr",
     "output_type": "stream",
     "text": [
      " 63%|██████▎   | 3906/6200 [25:01<13:44,  2.78it/s]***** Running Evaluation *****\n",
      "  Num examples = 66\n",
      "  Batch size = 8\n",
      "The following columns in the evaluation set don't have a corresponding argument in `BertForSequenceClassification.forward` and have been ignored: __index_level_0__, dna_seq. If __index_level_0__, dna_seq are not expected by `BertForSequenceClassification.forward`,  you can safely ignore this message.\n",
      "                                                   \n",
      " 63%|██████▎   | 3906/6200 [25:03<13:44,  2.78it/s]"
     ]
    },
    {
     "name": "stdout",
     "output_type": "stream",
     "text": [
      "{'eval_loss': 0.2846556305885315, 'eval_mse': 0.28465562372200676, 'eval_runtime': 1.5235, 'eval_samples_per_second': 43.321, 'eval_steps_per_second': 5.907, 'epoch': 63.0}\n"
     ]
    },
    {
     "name": "stderr",
     "output_type": "stream",
     "text": [
      " 64%|██████▍   | 3968/6200 [25:25<13:06,  2.84it/s]***** Running Evaluation *****\n",
      "  Num examples = 66\n",
      "  Batch size = 8\n",
      "The following columns in the evaluation set don't have a corresponding argument in `BertForSequenceClassification.forward` and have been ignored: __index_level_0__, dna_seq. If __index_level_0__, dna_seq are not expected by `BertForSequenceClassification.forward`,  you can safely ignore this message.\n",
      "                                                   \n",
      " 64%|██████▍   | 3968/6200 [25:26<13:06,  2.84it/s]"
     ]
    },
    {
     "name": "stdout",
     "output_type": "stream",
     "text": [
      "{'eval_loss': 0.2895359992980957, 'eval_mse': 0.2895359870687744, 'eval_runtime': 1.54, 'eval_samples_per_second': 42.857, 'eval_steps_per_second': 5.844, 'epoch': 64.0}\n"
     ]
    },
    {
     "name": "stderr",
     "output_type": "stream",
     "text": [
      " 65%|██████▍   | 4000/6200 [25:38<15:41,  2.34it/s]Saving model checkpoint to weight_model\\checkpoint-4000\n",
      "Configuration saved in weight_model\\checkpoint-4000\\config.json\n"
     ]
    },
    {
     "name": "stdout",
     "output_type": "stream",
     "text": [
      "{'loss': 0.0154, 'learning_rate': 1.774193548387097e-05, 'epoch': 64.52}\n"
     ]
    },
    {
     "name": "stderr",
     "output_type": "stream",
     "text": [
      "Model weights saved in weight_model\\checkpoint-4000\\pytorch_model.bin\n",
      " 65%|██████▌   | 4030/6200 [25:50<12:49,  2.82it/s]***** Running Evaluation *****\n",
      "  Num examples = 66\n",
      "  Batch size = 8\n",
      "The following columns in the evaluation set don't have a corresponding argument in `BertForSequenceClassification.forward` and have been ignored: __index_level_0__, dna_seq. If __index_level_0__, dna_seq are not expected by `BertForSequenceClassification.forward`,  you can safely ignore this message.\n",
      "                                                   \n",
      " 65%|██████▌   | 4030/6200 [25:52<12:49,  2.82it/s]"
     ]
    },
    {
     "name": "stdout",
     "output_type": "stream",
     "text": [
      "{'eval_loss': 0.28563037514686584, 'eval_mse': 0.28563042040634246, 'eval_runtime': 1.548, 'eval_samples_per_second': 42.636, 'eval_steps_per_second': 5.814, 'epoch': 65.0}\n"
     ]
    },
    {
     "name": "stderr",
     "output_type": "stream",
     "text": [
      " 66%|██████▌   | 4092/6200 [26:14<12:31,  2.80it/s]***** Running Evaluation *****\n",
      "  Num examples = 66\n",
      "  Batch size = 8\n",
      "The following columns in the evaluation set don't have a corresponding argument in `BertForSequenceClassification.forward` and have been ignored: __index_level_0__, dna_seq. If __index_level_0__, dna_seq are not expected by `BertForSequenceClassification.forward`,  you can safely ignore this message.\n",
      "                                                   \n",
      " 66%|██████▌   | 4092/6200 [26:16<12:31,  2.80it/s]"
     ]
    },
    {
     "name": "stdout",
     "output_type": "stream",
     "text": [
      "{'eval_loss': 0.28443193435668945, 'eval_mse': 0.28443192602120926, 'eval_runtime': 1.543, 'eval_samples_per_second': 42.774, 'eval_steps_per_second': 5.833, 'epoch': 66.0}\n"
     ]
    },
    {
     "name": "stderr",
     "output_type": "stream",
     "text": [
      " 67%|██████▋   | 4154/6200 [26:38<12:34,  2.71it/s]***** Running Evaluation *****\n",
      "  Num examples = 66\n",
      "  Batch size = 8\n",
      "The following columns in the evaluation set don't have a corresponding argument in `BertForSequenceClassification.forward` and have been ignored: __index_level_0__, dna_seq. If __index_level_0__, dna_seq are not expected by `BertForSequenceClassification.forward`,  you can safely ignore this message.\n",
      "                                                   \n",
      " 67%|██████▋   | 4154/6200 [26:40<12:34,  2.71it/s]"
     ]
    },
    {
     "name": "stdout",
     "output_type": "stream",
     "text": [
      "{'eval_loss': 0.2928355932235718, 'eval_mse': 0.2928355763540775, 'eval_runtime': 1.5945, 'eval_samples_per_second': 41.392, 'eval_steps_per_second': 5.644, 'epoch': 67.0}\n"
     ]
    },
    {
     "name": "stderr",
     "output_type": "stream",
     "text": [
      " 68%|██████▊   | 4216/6200 [27:02<12:14,  2.70it/s]***** Running Evaluation *****\n",
      "  Num examples = 66\n",
      "  Batch size = 8\n",
      "The following columns in the evaluation set don't have a corresponding argument in `BertForSequenceClassification.forward` and have been ignored: __index_level_0__, dna_seq. If __index_level_0__, dna_seq are not expected by `BertForSequenceClassification.forward`,  you can safely ignore this message.\n",
      "                                                   \n",
      " 68%|██████▊   | 4216/6200 [27:04<12:14,  2.70it/s]"
     ]
    },
    {
     "name": "stdout",
     "output_type": "stream",
     "text": [
      "{'eval_loss': 0.2912018895149231, 'eval_mse': 0.29120187379253265, 'eval_runtime': 1.6175, 'eval_samples_per_second': 40.804, 'eval_steps_per_second': 5.564, 'epoch': 68.0}\n"
     ]
    },
    {
     "name": "stderr",
     "output_type": "stream",
     "text": [
      " 69%|██████▉   | 4278/6200 [27:26<11:25,  2.80it/s]***** Running Evaluation *****\n",
      "  Num examples = 66\n",
      "  Batch size = 8\n",
      "The following columns in the evaluation set don't have a corresponding argument in `BertForSequenceClassification.forward` and have been ignored: __index_level_0__, dna_seq. If __index_level_0__, dna_seq are not expected by `BertForSequenceClassification.forward`,  you can safely ignore this message.\n",
      "                                                   \n",
      " 69%|██████▉   | 4278/6200 [27:28<11:25,  2.80it/s]"
     ]
    },
    {
     "name": "stdout",
     "output_type": "stream",
     "text": [
      "{'eval_loss': 0.2777000367641449, 'eval_mse': 0.277700023521212, 'eval_runtime': 1.5265, 'eval_samples_per_second': 43.236, 'eval_steps_per_second': 5.896, 'epoch': 69.0}\n"
     ]
    },
    {
     "name": "stderr",
     "output_type": "stream",
     "text": [
      " 70%|███████   | 4340/6200 [27:50<11:04,  2.80it/s]***** Running Evaluation *****\n",
      "  Num examples = 66\n",
      "  Batch size = 8\n",
      "The following columns in the evaluation set don't have a corresponding argument in `BertForSequenceClassification.forward` and have been ignored: __index_level_0__, dna_seq. If __index_level_0__, dna_seq are not expected by `BertForSequenceClassification.forward`,  you can safely ignore this message.\n",
      "                                                   \n",
      " 70%|███████   | 4340/6200 [27:52<11:04,  2.80it/s]"
     ]
    },
    {
     "name": "stdout",
     "output_type": "stream",
     "text": [
      "{'eval_loss': 0.28882279992103577, 'eval_mse': 0.28882282096266576, 'eval_runtime': 1.5475, 'eval_samples_per_second': 42.65, 'eval_steps_per_second': 5.816, 'epoch': 70.0}\n"
     ]
    },
    {
     "name": "stderr",
     "output_type": "stream",
     "text": [
      " 71%|███████   | 4402/6200 [28:14<10:59,  2.73it/s]***** Running Evaluation *****\n",
      "  Num examples = 66\n",
      "  Batch size = 8\n",
      "The following columns in the evaluation set don't have a corresponding argument in `BertForSequenceClassification.forward` and have been ignored: __index_level_0__, dna_seq. If __index_level_0__, dna_seq are not expected by `BertForSequenceClassification.forward`,  you can safely ignore this message.\n",
      "                                                   \n",
      " 71%|███████   | 4402/6200 [28:16<10:59,  2.73it/s]"
     ]
    },
    {
     "name": "stdout",
     "output_type": "stream",
     "text": [
      "{'eval_loss': 0.26110920310020447, 'eval_mse': 0.26110918820986107, 'eval_runtime': 1.5745, 'eval_samples_per_second': 41.918, 'eval_steps_per_second': 5.716, 'epoch': 71.0}\n"
     ]
    },
    {
     "name": "stderr",
     "output_type": "stream",
     "text": [
      " 72%|███████▏  | 4464/6200 [28:38<10:21,  2.79it/s]***** Running Evaluation *****\n",
      "  Num examples = 66\n",
      "  Batch size = 8\n",
      "The following columns in the evaluation set don't have a corresponding argument in `BertForSequenceClassification.forward` and have been ignored: __index_level_0__, dna_seq. If __index_level_0__, dna_seq are not expected by `BertForSequenceClassification.forward`,  you can safely ignore this message.\n",
      "                                                   \n",
      " 72%|███████▏  | 4464/6200 [28:39<10:21,  2.79it/s]"
     ]
    },
    {
     "name": "stdout",
     "output_type": "stream",
     "text": [
      "{'eval_loss': 0.2924823760986328, 'eval_mse': 0.2924823658391542, 'eval_runtime': 1.539, 'eval_samples_per_second': 42.885, 'eval_steps_per_second': 5.848, 'epoch': 72.0}\n"
     ]
    },
    {
     "name": "stderr",
     "output_type": "stream",
     "text": [
      " 73%|███████▎  | 4500/6200 [28:52<12:23,  2.29it/s]Saving model checkpoint to weight_model\\checkpoint-4500\n",
      "Configuration saved in weight_model\\checkpoint-4500\\config.json\n"
     ]
    },
    {
     "name": "stdout",
     "output_type": "stream",
     "text": [
      "{'loss': 0.0132, 'learning_rate': 1.3709677419354839e-05, 'epoch': 72.58}\n"
     ]
    },
    {
     "name": "stderr",
     "output_type": "stream",
     "text": [
      "Model weights saved in weight_model\\checkpoint-4500\\pytorch_model.bin\n",
      " 73%|███████▎  | 4526/6200 [29:03<09:58,  2.80it/s]***** Running Evaluation *****\n",
      "  Num examples = 66\n",
      "  Batch size = 8\n",
      "The following columns in the evaluation set don't have a corresponding argument in `BertForSequenceClassification.forward` and have been ignored: __index_level_0__, dna_seq. If __index_level_0__, dna_seq are not expected by `BertForSequenceClassification.forward`,  you can safely ignore this message.\n",
      "                                                   \n",
      " 73%|███████▎  | 4526/6200 [29:05<09:58,  2.80it/s]"
     ]
    },
    {
     "name": "stdout",
     "output_type": "stream",
     "text": [
      "{'eval_loss': 0.2843042314052582, 'eval_mse': 0.2843042574949522, 'eval_runtime': 1.552, 'eval_samples_per_second': 42.526, 'eval_steps_per_second': 5.799, 'epoch': 73.0}\n"
     ]
    },
    {
     "name": "stderr",
     "output_type": "stream",
     "text": [
      " 74%|███████▍  | 4588/6200 [29:27<09:37,  2.79it/s]***** Running Evaluation *****\n",
      "  Num examples = 66\n",
      "  Batch size = 8\n",
      "The following columns in the evaluation set don't have a corresponding argument in `BertForSequenceClassification.forward` and have been ignored: __index_level_0__, dna_seq. If __index_level_0__, dna_seq are not expected by `BertForSequenceClassification.forward`,  you can safely ignore this message.\n",
      "                                                   \n",
      " 74%|███████▍  | 4588/6200 [29:29<09:37,  2.79it/s]"
     ]
    },
    {
     "name": "stdout",
     "output_type": "stream",
     "text": [
      "{'eval_loss': 0.27974674105644226, 'eval_mse': 0.27974675205306127, 'eval_runtime': 1.5465, 'eval_samples_per_second': 42.677, 'eval_steps_per_second': 5.82, 'epoch': 74.0}\n"
     ]
    },
    {
     "name": "stderr",
     "output_type": "stream",
     "text": [
      " 75%|███████▌  | 4650/6200 [29:51<09:17,  2.78it/s]***** Running Evaluation *****\n",
      "  Num examples = 66\n",
      "  Batch size = 8\n",
      "The following columns in the evaluation set don't have a corresponding argument in `BertForSequenceClassification.forward` and have been ignored: __index_level_0__, dna_seq. If __index_level_0__, dna_seq are not expected by `BertForSequenceClassification.forward`,  you can safely ignore this message.\n",
      "                                                   \n",
      " 75%|███████▌  | 4650/6200 [29:53<09:17,  2.78it/s]"
     ]
    },
    {
     "name": "stdout",
     "output_type": "stream",
     "text": [
      "{'eval_loss': 0.29644274711608887, 'eval_mse': 0.2964427397143918, 'eval_runtime': 1.5635, 'eval_samples_per_second': 42.213, 'eval_steps_per_second': 5.756, 'epoch': 75.0}\n"
     ]
    },
    {
     "name": "stderr",
     "output_type": "stream",
     "text": [
      " 76%|███████▌  | 4712/6200 [30:15<09:01,  2.75it/s]***** Running Evaluation *****\n",
      "  Num examples = 66\n",
      "  Batch size = 8\n",
      "The following columns in the evaluation set don't have a corresponding argument in `BertForSequenceClassification.forward` and have been ignored: __index_level_0__, dna_seq. If __index_level_0__, dna_seq are not expected by `BertForSequenceClassification.forward`,  you can safely ignore this message.\n",
      "                                                   \n",
      " 76%|███████▌  | 4712/6200 [30:17<09:01,  2.75it/s]"
     ]
    },
    {
     "name": "stdout",
     "output_type": "stream",
     "text": [
      "{'eval_loss': 0.28566083312034607, 'eval_mse': 0.28566080502645785, 'eval_runtime': 1.5315, 'eval_samples_per_second': 43.095, 'eval_steps_per_second': 5.877, 'epoch': 76.0}\n"
     ]
    },
    {
     "name": "stderr",
     "output_type": "stream",
     "text": [
      " 77%|███████▋  | 4774/6200 [30:39<08:16,  2.87it/s]***** Running Evaluation *****\n",
      "  Num examples = 66\n",
      "  Batch size = 8\n",
      "The following columns in the evaluation set don't have a corresponding argument in `BertForSequenceClassification.forward` and have been ignored: __index_level_0__, dna_seq. If __index_level_0__, dna_seq are not expected by `BertForSequenceClassification.forward`,  you can safely ignore this message.\n",
      "                                                   \n",
      " 77%|███████▋  | 4774/6200 [30:40<08:16,  2.87it/s]"
     ]
    },
    {
     "name": "stdout",
     "output_type": "stream",
     "text": [
      "{'eval_loss': 0.29466453194618225, 'eval_mse': 0.29466448848936705, 'eval_runtime': 1.513, 'eval_samples_per_second': 43.622, 'eval_steps_per_second': 5.948, 'epoch': 77.0}\n"
     ]
    },
    {
     "name": "stderr",
     "output_type": "stream",
     "text": [
      " 78%|███████▊  | 4836/6200 [31:03<07:56,  2.86it/s]***** Running Evaluation *****\n",
      "  Num examples = 66\n",
      "  Batch size = 8\n",
      "The following columns in the evaluation set don't have a corresponding argument in `BertForSequenceClassification.forward` and have been ignored: __index_level_0__, dna_seq. If __index_level_0__, dna_seq are not expected by `BertForSequenceClassification.forward`,  you can safely ignore this message.\n",
      "                                                   \n",
      " 78%|███████▊  | 4836/6200 [31:04<07:56,  2.86it/s]"
     ]
    },
    {
     "name": "stdout",
     "output_type": "stream",
     "text": [
      "{'eval_loss': 0.2747722566127777, 'eval_mse': 0.2747722697495426, 'eval_runtime': 1.5245, 'eval_samples_per_second': 43.293, 'eval_steps_per_second': 5.904, 'epoch': 78.0}\n"
     ]
    },
    {
     "name": "stderr",
     "output_type": "stream",
     "text": [
      " 79%|███████▉  | 4898/6200 [31:26<08:04,  2.69it/s]***** Running Evaluation *****\n",
      "  Num examples = 66\n",
      "  Batch size = 8\n",
      "The following columns in the evaluation set don't have a corresponding argument in `BertForSequenceClassification.forward` and have been ignored: __index_level_0__, dna_seq. If __index_level_0__, dna_seq are not expected by `BertForSequenceClassification.forward`,  you can safely ignore this message.\n",
      "                                                   \n",
      " 79%|███████▉  | 4898/6200 [31:28<08:04,  2.69it/s]"
     ]
    },
    {
     "name": "stdout",
     "output_type": "stream",
     "text": [
      "{'eval_loss': 0.28904828429222107, 'eval_mse': 0.2890482639883296, 'eval_runtime': 1.576, 'eval_samples_per_second': 41.878, 'eval_steps_per_second': 5.711, 'epoch': 79.0}\n"
     ]
    },
    {
     "name": "stderr",
     "output_type": "stream",
     "text": [
      " 80%|████████  | 4960/6200 [31:50<07:28,  2.77it/s]***** Running Evaluation *****\n",
      "  Num examples = 66\n",
      "  Batch size = 8\n",
      "The following columns in the evaluation set don't have a corresponding argument in `BertForSequenceClassification.forward` and have been ignored: __index_level_0__, dna_seq. If __index_level_0__, dna_seq are not expected by `BertForSequenceClassification.forward`,  you can safely ignore this message.\n",
      "                                                   \n",
      " 80%|████████  | 4960/6200 [31:52<07:28,  2.77it/s]"
     ]
    },
    {
     "name": "stdout",
     "output_type": "stream",
     "text": [
      "{'eval_loss': 0.28357747197151184, 'eval_mse': 0.2835775132014827, 'eval_runtime': 1.5685, 'eval_samples_per_second': 42.079, 'eval_steps_per_second': 5.738, 'epoch': 80.0}\n"
     ]
    },
    {
     "name": "stderr",
     "output_type": "stream",
     "text": [
      " 81%|████████  | 5000/6200 [32:06<08:32,  2.34it/s]Saving model checkpoint to weight_model\\checkpoint-5000\n",
      "Configuration saved in weight_model\\checkpoint-5000\\config.json\n"
     ]
    },
    {
     "name": "stdout",
     "output_type": "stream",
     "text": [
      "{'loss': 0.0113, 'learning_rate': 9.67741935483871e-06, 'epoch': 80.65}\n"
     ]
    },
    {
     "name": "stderr",
     "output_type": "stream",
     "text": [
      "Model weights saved in weight_model\\checkpoint-5000\\pytorch_model.bin\n",
      " 81%|████████  | 5022/6200 [32:16<07:02,  2.79it/s]***** Running Evaluation *****\n",
      "  Num examples = 66\n",
      "  Batch size = 8\n",
      "The following columns in the evaluation set don't have a corresponding argument in `BertForSequenceClassification.forward` and have been ignored: __index_level_0__, dna_seq. If __index_level_0__, dna_seq are not expected by `BertForSequenceClassification.forward`,  you can safely ignore this message.\n",
      "                                                   \n",
      " 81%|████████  | 5022/6200 [32:17<07:02,  2.79it/s]"
     ]
    },
    {
     "name": "stdout",
     "output_type": "stream",
     "text": [
      "{'eval_loss': 0.2818683385848999, 'eval_mse': 0.28186837959831224, 'eval_runtime': 1.532, 'eval_samples_per_second': 43.081, 'eval_steps_per_second': 5.875, 'epoch': 81.0}\n"
     ]
    },
    {
     "name": "stderr",
     "output_type": "stream",
     "text": [
      " 82%|████████▏ | 5084/6200 [32:40<06:46,  2.75it/s]***** Running Evaluation *****\n",
      "  Num examples = 66\n",
      "  Batch size = 8\n",
      "The following columns in the evaluation set don't have a corresponding argument in `BertForSequenceClassification.forward` and have been ignored: __index_level_0__, dna_seq. If __index_level_0__, dna_seq are not expected by `BertForSequenceClassification.forward`,  you can safely ignore this message.\n",
      "                                                   \n",
      " 82%|████████▏ | 5084/6200 [32:41<06:46,  2.75it/s]"
     ]
    },
    {
     "name": "stdout",
     "output_type": "stream",
     "text": [
      "{'eval_loss': 0.29420167207717896, 'eval_mse': 0.2942017144179074, 'eval_runtime': 1.569, 'eval_samples_per_second': 42.065, 'eval_steps_per_second': 5.736, 'epoch': 82.0}\n"
     ]
    },
    {
     "name": "stderr",
     "output_type": "stream",
     "text": [
      " 83%|████████▎ | 5146/6200 [33:04<06:22,  2.76it/s]***** Running Evaluation *****\n",
      "  Num examples = 66\n",
      "  Batch size = 8\n",
      "The following columns in the evaluation set don't have a corresponding argument in `BertForSequenceClassification.forward` and have been ignored: __index_level_0__, dna_seq. If __index_level_0__, dna_seq are not expected by `BertForSequenceClassification.forward`,  you can safely ignore this message.\n",
      "                                                   \n",
      " 83%|████████▎ | 5146/6200 [33:06<06:22,  2.76it/s]"
     ]
    },
    {
     "name": "stdout",
     "output_type": "stream",
     "text": [
      "{'eval_loss': 0.28526872396469116, 'eval_mse': 0.28526870506351343, 'eval_runtime': 1.575, 'eval_samples_per_second': 41.905, 'eval_steps_per_second': 5.714, 'epoch': 83.0}\n"
     ]
    },
    {
     "name": "stderr",
     "output_type": "stream",
     "text": [
      " 84%|████████▍ | 5208/6200 [33:28<05:58,  2.76it/s]***** Running Evaluation *****\n",
      "  Num examples = 66\n",
      "  Batch size = 8\n",
      "The following columns in the evaluation set don't have a corresponding argument in `BertForSequenceClassification.forward` and have been ignored: __index_level_0__, dna_seq. If __index_level_0__, dna_seq are not expected by `BertForSequenceClassification.forward`,  you can safely ignore this message.\n",
      "                                                   \n",
      " 84%|████████▍ | 5208/6200 [33:30<05:58,  2.76it/s]"
     ]
    },
    {
     "name": "stdout",
     "output_type": "stream",
     "text": [
      "{'eval_loss': 0.2870289385318756, 'eval_mse': 0.2870289293404139, 'eval_runtime': 1.5835, 'eval_samples_per_second': 41.68, 'eval_steps_per_second': 5.684, 'epoch': 84.0}\n"
     ]
    },
    {
     "name": "stderr",
     "output_type": "stream",
     "text": [
      " 85%|████████▌ | 5270/6200 [33:52<05:34,  2.78it/s]***** Running Evaluation *****\n",
      "  Num examples = 66\n",
      "  Batch size = 8\n",
      "The following columns in the evaluation set don't have a corresponding argument in `BertForSequenceClassification.forward` and have been ignored: __index_level_0__, dna_seq. If __index_level_0__, dna_seq are not expected by `BertForSequenceClassification.forward`,  you can safely ignore this message.\n",
      "                                                   \n",
      " 85%|████████▌ | 5270/6200 [33:54<05:34,  2.78it/s]"
     ]
    },
    {
     "name": "stdout",
     "output_type": "stream",
     "text": [
      "{'eval_loss': 0.28455692529678345, 'eval_mse': 0.28455696664822044, 'eval_runtime': 1.5575, 'eval_samples_per_second': 42.376, 'eval_steps_per_second': 5.778, 'epoch': 85.0}\n"
     ]
    },
    {
     "name": "stderr",
     "output_type": "stream",
     "text": [
      " 86%|████████▌ | 5332/6200 [34:16<05:14,  2.76it/s]***** Running Evaluation *****\n",
      "  Num examples = 66\n",
      "  Batch size = 8\n",
      "The following columns in the evaluation set don't have a corresponding argument in `BertForSequenceClassification.forward` and have been ignored: __index_level_0__, dna_seq. If __index_level_0__, dna_seq are not expected by `BertForSequenceClassification.forward`,  you can safely ignore this message.\n",
      "                                                   \n",
      " 86%|████████▌ | 5332/6200 [34:18<05:14,  2.76it/s]"
     ]
    },
    {
     "name": "stdout",
     "output_type": "stream",
     "text": [
      "{'eval_loss': 0.28604114055633545, 'eval_mse': 0.2860411695073945, 'eval_runtime': 1.5825, 'eval_samples_per_second': 41.706, 'eval_steps_per_second': 5.687, 'epoch': 86.0}\n"
     ]
    },
    {
     "name": "stderr",
     "output_type": "stream",
     "text": [
      " 87%|████████▋ | 5394/6200 [34:41<04:54,  2.74it/s]***** Running Evaluation *****\n",
      "  Num examples = 66\n",
      "  Batch size = 8\n",
      "The following columns in the evaluation set don't have a corresponding argument in `BertForSequenceClassification.forward` and have been ignored: __index_level_0__, dna_seq. If __index_level_0__, dna_seq are not expected by `BertForSequenceClassification.forward`,  you can safely ignore this message.\n",
      "                                                   \n",
      " 87%|████████▋ | 5394/6200 [34:42<04:54,  2.74it/s]"
     ]
    },
    {
     "name": "stdout",
     "output_type": "stream",
     "text": [
      "{'eval_loss': 0.28405067324638367, 'eval_mse': 0.28405069730238275, 'eval_runtime': 1.5725, 'eval_samples_per_second': 41.971, 'eval_steps_per_second': 5.723, 'epoch': 87.0}\n"
     ]
    },
    {
     "name": "stderr",
     "output_type": "stream",
     "text": [
      " 88%|████████▊ | 5456/6200 [35:05<04:28,  2.77it/s]***** Running Evaluation *****\n",
      "  Num examples = 66\n",
      "  Batch size = 8\n",
      "The following columns in the evaluation set don't have a corresponding argument in `BertForSequenceClassification.forward` and have been ignored: __index_level_0__, dna_seq. If __index_level_0__, dna_seq are not expected by `BertForSequenceClassification.forward`,  you can safely ignore this message.\n",
      "                                                   \n",
      " 88%|████████▊ | 5456/6200 [35:06<04:28,  2.77it/s]"
     ]
    },
    {
     "name": "stdout",
     "output_type": "stream",
     "text": [
      "{'eval_loss': 0.28971022367477417, 'eval_mse': 0.28971019580772833, 'eval_runtime': 1.5775, 'eval_samples_per_second': 41.838, 'eval_steps_per_second': 5.705, 'epoch': 88.0}\n"
     ]
    },
    {
     "name": "stderr",
     "output_type": "stream",
     "text": [
      " 89%|████████▊ | 5500/6200 [35:23<05:05,  2.29it/s]Saving model checkpoint to weight_model\\checkpoint-5500\n",
      "Configuration saved in weight_model\\checkpoint-5500\\config.json\n"
     ]
    },
    {
     "name": "stdout",
     "output_type": "stream",
     "text": [
      "{'loss': 0.0109, 'learning_rate': 5.64516129032258e-06, 'epoch': 88.71}\n"
     ]
    },
    {
     "name": "stderr",
     "output_type": "stream",
     "text": [
      "Model weights saved in weight_model\\checkpoint-5500\\pytorch_model.bin\n",
      " 89%|████████▉ | 5518/6200 [35:31<04:07,  2.75it/s]***** Running Evaluation *****\n",
      "  Num examples = 66\n",
      "  Batch size = 8\n",
      "The following columns in the evaluation set don't have a corresponding argument in `BertForSequenceClassification.forward` and have been ignored: __index_level_0__, dna_seq. If __index_level_0__, dna_seq are not expected by `BertForSequenceClassification.forward`,  you can safely ignore this message.\n",
      "                                                   \n",
      " 89%|████████▉ | 5518/6200 [35:33<04:07,  2.75it/s]"
     ]
    },
    {
     "name": "stdout",
     "output_type": "stream",
     "text": [
      "{'eval_loss': 0.289035439491272, 'eval_mse': 0.28903538508608645, 'eval_runtime': 1.562, 'eval_samples_per_second': 42.254, 'eval_steps_per_second': 5.762, 'epoch': 89.0}\n"
     ]
    },
    {
     "name": "stderr",
     "output_type": "stream",
     "text": [
      " 90%|█████████ | 5580/6200 [35:55<03:46,  2.73it/s]***** Running Evaluation *****\n",
      "  Num examples = 66\n",
      "  Batch size = 8\n",
      "The following columns in the evaluation set don't have a corresponding argument in `BertForSequenceClassification.forward` and have been ignored: __index_level_0__, dna_seq. If __index_level_0__, dna_seq are not expected by `BertForSequenceClassification.forward`,  you can safely ignore this message.\n",
      "                                                   \n",
      " 90%|█████████ | 5580/6200 [35:57<03:46,  2.73it/s]"
     ]
    },
    {
     "name": "stdout",
     "output_type": "stream",
     "text": [
      "{'eval_loss': 0.29204192757606506, 'eval_mse': 0.29204191491861337, 'eval_runtime': 1.5805, 'eval_samples_per_second': 41.759, 'eval_steps_per_second': 5.694, 'epoch': 90.0}\n"
     ]
    },
    {
     "name": "stderr",
     "output_type": "stream",
     "text": [
      " 91%|█████████ | 5642/6200 [36:19<03:22,  2.76it/s]***** Running Evaluation *****\n",
      "  Num examples = 66\n",
      "  Batch size = 8\n",
      "The following columns in the evaluation set don't have a corresponding argument in `BertForSequenceClassification.forward` and have been ignored: __index_level_0__, dna_seq. If __index_level_0__, dna_seq are not expected by `BertForSequenceClassification.forward`,  you can safely ignore this message.\n",
      "                                                   \n",
      " 91%|█████████ | 5642/6200 [36:21<03:22,  2.76it/s]"
     ]
    },
    {
     "name": "stdout",
     "output_type": "stream",
     "text": [
      "{'eval_loss': 0.2894606590270996, 'eval_mse': 0.28946066668018067, 'eval_runtime': 1.584, 'eval_samples_per_second': 41.667, 'eval_steps_per_second': 5.682, 'epoch': 91.0}\n"
     ]
    },
    {
     "name": "stderr",
     "output_type": "stream",
     "text": [
      " 92%|█████████▏| 5704/6200 [36:43<03:04,  2.69it/s]***** Running Evaluation *****\n",
      "  Num examples = 66\n",
      "  Batch size = 8\n",
      "The following columns in the evaluation set don't have a corresponding argument in `BertForSequenceClassification.forward` and have been ignored: __index_level_0__, dna_seq. If __index_level_0__, dna_seq are not expected by `BertForSequenceClassification.forward`,  you can safely ignore this message.\n",
      "                                                   \n",
      " 92%|█████████▏| 5704/6200 [36:45<03:04,  2.69it/s]"
     ]
    },
    {
     "name": "stdout",
     "output_type": "stream",
     "text": [
      "{'eval_loss': 0.2907913029193878, 'eval_mse': 0.2907913276765437, 'eval_runtime': 1.5815, 'eval_samples_per_second': 41.733, 'eval_steps_per_second': 5.691, 'epoch': 92.0}\n"
     ]
    },
    {
     "name": "stderr",
     "output_type": "stream",
     "text": [
      " 93%|█████████▎| 5766/6200 [37:08<02:38,  2.73it/s]***** Running Evaluation *****\n",
      "  Num examples = 66\n",
      "  Batch size = 8\n",
      "The following columns in the evaluation set don't have a corresponding argument in `BertForSequenceClassification.forward` and have been ignored: __index_level_0__, dna_seq. If __index_level_0__, dna_seq are not expected by `BertForSequenceClassification.forward`,  you can safely ignore this message.\n",
      "                                                   \n",
      " 93%|█████████▎| 5766/6200 [37:09<02:38,  2.73it/s]"
     ]
    },
    {
     "name": "stdout",
     "output_type": "stream",
     "text": [
      "{'eval_loss': 0.29192885756492615, 'eval_mse': 0.29192889302492336, 'eval_runtime': 1.5945, 'eval_samples_per_second': 41.392, 'eval_steps_per_second': 5.644, 'epoch': 93.0}\n"
     ]
    },
    {
     "name": "stderr",
     "output_type": "stream",
     "text": [
      " 94%|█████████▍| 5828/6200 [37:32<02:16,  2.72it/s]***** Running Evaluation *****\n",
      "  Num examples = 66\n",
      "  Batch size = 8\n",
      "The following columns in the evaluation set don't have a corresponding argument in `BertForSequenceClassification.forward` and have been ignored: __index_level_0__, dna_seq. If __index_level_0__, dna_seq are not expected by `BertForSequenceClassification.forward`,  you can safely ignore this message.\n",
      "                                                   \n",
      " 94%|█████████▍| 5828/6200 [37:33<02:16,  2.72it/s]"
     ]
    },
    {
     "name": "stdout",
     "output_type": "stream",
     "text": [
      "{'eval_loss': 0.2886980175971985, 'eval_mse': 0.2886979941681007, 'eval_runtime': 1.5765, 'eval_samples_per_second': 41.865, 'eval_steps_per_second': 5.709, 'epoch': 94.0}\n"
     ]
    },
    {
     "name": "stderr",
     "output_type": "stream",
     "text": [
      " 95%|█████████▌| 5890/6200 [37:56<01:53,  2.73it/s]***** Running Evaluation *****\n",
      "  Num examples = 66\n",
      "  Batch size = 8\n",
      "The following columns in the evaluation set don't have a corresponding argument in `BertForSequenceClassification.forward` and have been ignored: __index_level_0__, dna_seq. If __index_level_0__, dna_seq are not expected by `BertForSequenceClassification.forward`,  you can safely ignore this message.\n",
      "                                                   \n",
      " 95%|█████████▌| 5890/6200 [37:58<01:53,  2.73it/s]"
     ]
    },
    {
     "name": "stdout",
     "output_type": "stream",
     "text": [
      "{'eval_loss': 0.2873252034187317, 'eval_mse': 0.2873251694642235, 'eval_runtime': 1.575, 'eval_samples_per_second': 41.905, 'eval_steps_per_second': 5.714, 'epoch': 95.0}\n"
     ]
    },
    {
     "name": "stderr",
     "output_type": "stream",
     "text": [
      " 96%|█████████▌| 5952/6200 [38:20<01:29,  2.76it/s]***** Running Evaluation *****\n",
      "  Num examples = 66\n",
      "  Batch size = 8\n",
      "The following columns in the evaluation set don't have a corresponding argument in `BertForSequenceClassification.forward` and have been ignored: __index_level_0__, dna_seq. If __index_level_0__, dna_seq are not expected by `BertForSequenceClassification.forward`,  you can safely ignore this message.\n",
      "                                                   \n",
      " 96%|█████████▌| 5952/6200 [38:22<01:29,  2.76it/s]"
     ]
    },
    {
     "name": "stdout",
     "output_type": "stream",
     "text": [
      "{'eval_loss': 0.2879166305065155, 'eval_mse': 0.28791665954739587, 'eval_runtime': 1.5815, 'eval_samples_per_second': 41.733, 'eval_steps_per_second': 5.691, 'epoch': 96.0}\n"
     ]
    },
    {
     "name": "stderr",
     "output_type": "stream",
     "text": [
      " 97%|█████████▋| 6000/6200 [38:40<01:27,  2.30it/s]Saving model checkpoint to weight_model\\checkpoint-6000\n",
      "Configuration saved in weight_model\\checkpoint-6000\\config.json\n"
     ]
    },
    {
     "name": "stdout",
     "output_type": "stream",
     "text": [
      "{'loss': 0.01, 'learning_rate': 1.6129032258064516e-06, 'epoch': 96.77}\n"
     ]
    },
    {
     "name": "stderr",
     "output_type": "stream",
     "text": [
      "Model weights saved in weight_model\\checkpoint-6000\\pytorch_model.bin\n",
      " 97%|█████████▋| 6014/6200 [38:46<01:08,  2.71it/s]***** Running Evaluation *****\n",
      "  Num examples = 66\n",
      "  Batch size = 8\n",
      "The following columns in the evaluation set don't have a corresponding argument in `BertForSequenceClassification.forward` and have been ignored: __index_level_0__, dna_seq. If __index_level_0__, dna_seq are not expected by `BertForSequenceClassification.forward`,  you can safely ignore this message.\n",
      "                                                   \n",
      " 97%|█████████▋| 6014/6200 [38:48<01:08,  2.71it/s]"
     ]
    },
    {
     "name": "stdout",
     "output_type": "stream",
     "text": [
      "{'eval_loss': 0.2868233323097229, 'eval_mse': 0.2868233172266772, 'eval_runtime': 1.5645, 'eval_samples_per_second': 42.186, 'eval_steps_per_second': 5.753, 'epoch': 97.0}\n"
     ]
    },
    {
     "name": "stderr",
     "output_type": "stream",
     "text": [
      " 98%|█████████▊| 6076/6200 [39:11<00:45,  2.75it/s]***** Running Evaluation *****\n",
      "  Num examples = 66\n",
      "  Batch size = 8\n",
      "The following columns in the evaluation set don't have a corresponding argument in `BertForSequenceClassification.forward` and have been ignored: __index_level_0__, dna_seq. If __index_level_0__, dna_seq are not expected by `BertForSequenceClassification.forward`,  you can safely ignore this message.\n",
      "                                                   \n",
      " 98%|█████████▊| 6076/6200 [39:12<00:45,  2.75it/s]"
     ]
    },
    {
     "name": "stdout",
     "output_type": "stream",
     "text": [
      "{'eval_loss': 0.28881028294563293, 'eval_mse': 0.2888102973533125, 'eval_runtime': 1.581, 'eval_samples_per_second': 41.746, 'eval_steps_per_second': 5.693, 'epoch': 98.0}\n"
     ]
    },
    {
     "name": "stderr",
     "output_type": "stream",
     "text": [
      " 99%|█████████▉| 6138/6200 [39:35<00:23,  2.69it/s]***** Running Evaluation *****\n",
      "  Num examples = 66\n",
      "  Batch size = 8\n",
      "The following columns in the evaluation set don't have a corresponding argument in `BertForSequenceClassification.forward` and have been ignored: __index_level_0__, dna_seq. If __index_level_0__, dna_seq are not expected by `BertForSequenceClassification.forward`,  you can safely ignore this message.\n",
      "                                                   \n",
      " 99%|█████████▉| 6138/6200 [39:36<00:23,  2.69it/s]"
     ]
    },
    {
     "name": "stdout",
     "output_type": "stream",
     "text": [
      "{'eval_loss': 0.28854629397392273, 'eval_mse': 0.2885463020232283, 'eval_runtime': 1.565, 'eval_samples_per_second': 42.173, 'eval_steps_per_second': 5.751, 'epoch': 99.0}\n"
     ]
    },
    {
     "name": "stderr",
     "output_type": "stream",
     "text": [
      "100%|██████████| 6200/6200 [39:59<00:00,  2.75it/s]***** Running Evaluation *****\n",
      "  Num examples = 66\n",
      "  Batch size = 8\n",
      "The following columns in the evaluation set don't have a corresponding argument in `BertForSequenceClassification.forward` and have been ignored: __index_level_0__, dna_seq. If __index_level_0__, dna_seq are not expected by `BertForSequenceClassification.forward`,  you can safely ignore this message.\n",
      "                                                   \n",
      "100%|██████████| 6200/6200 [40:01<00:00,  2.75it/s]\n",
      "\n",
      "Training completed. Do not forget to share your model on huggingface.co/models =)\n",
      "\n",
      "\n",
      "100%|██████████| 6200/6200 [40:01<00:00,  2.58it/s]"
     ]
    },
    {
     "name": "stdout",
     "output_type": "stream",
     "text": [
      "{'eval_loss': 0.2890647053718567, 'eval_mse': 0.2890646549190019, 'eval_runtime': 1.5625, 'eval_samples_per_second': 42.24, 'eval_steps_per_second': 5.76, 'epoch': 100.0}\n",
      "{'train_runtime': 2401.3973, 'train_samples_per_second': 12.909, 'train_steps_per_second': 2.582, 'train_loss': 0.04743621633898827, 'epoch': 100.0}\n"
     ]
    },
    {
     "name": "stderr",
     "output_type": "stream",
     "text": [
      "\n"
     ]
    },
    {
     "data": {
      "text/plain": [
       "TrainOutput(global_step=6200, training_loss=0.04743621633898827, metrics={'train_runtime': 2401.3973, 'train_samples_per_second': 12.909, 'train_steps_per_second': 2.582, 'train_loss': 0.04743621633898827, 'epoch': 100.0})"
      ]
     },
     "execution_count": 15,
     "metadata": {},
     "output_type": "execute_result"
    }
   ],
   "source": [
    "trainer.train()"
   ]
  },
  {
   "cell_type": "code",
   "execution_count": 16,
   "metadata": {},
   "outputs": [
    {
     "name": "stderr",
     "output_type": "stream",
     "text": [
      "***** Running Prediction *****\n",
      "  Num examples = 67\n",
      "  Batch size = 8\n",
      "The following columns in the test set don't have a corresponding argument in `BertForSequenceClassification.forward` and have been ignored: __index_level_0__, dna_seq. If __index_level_0__, dna_seq are not expected by `BertForSequenceClassification.forward`,  you can safely ignore this message.\n",
      " 89%|████████▉ | 8/9 [00:01<00:00,  5.62it/s]"
     ]
    }
   ],
   "source": [
    "results = trainer.predict(test)"
   ]
  },
  {
   "cell_type": "code",
   "execution_count": 17,
   "metadata": {},
   "outputs": [
    {
     "data": {
      "text/plain": [
       "0.38559186"
      ]
     },
     "execution_count": 17,
     "metadata": {},
     "output_type": "execute_result"
    }
   ],
   "source": [
    "np.mean(np.abs(results.predictions.flatten() - results.label_ids))"
   ]
  },
  {
   "cell_type": "code",
   "execution_count": null,
   "metadata": {},
   "outputs": [],
   "source": []
  },
  {
   "cell_type": "code",
   "execution_count": null,
   "metadata": {},
   "outputs": [],
   "source": []
  },
  {
   "cell_type": "code",
   "execution_count": null,
   "metadata": {},
   "outputs": [],
   "source": []
  }
 ],
 "metadata": {
  "kernelspec": {
   "display_name": "real-fast",
   "language": "python",
   "name": "python3"
  },
  "language_info": {
   "codemirror_mode": {
    "name": "ipython",
    "version": 3
   },
   "file_extension": ".py",
   "mimetype": "text/x-python",
   "name": "python",
   "nbconvert_exporter": "python",
   "pygments_lexer": "ipython3",
   "version": "3.8.4"
  },
  "orig_nbformat": 4,
  "vscode": {
   "interpreter": {
    "hash": "8f22b016a765315302d6d89940da541fcf8d156ba682da1678714b703ab4ccda"
   }
  }
 },
 "nbformat": 4,
 "nbformat_minor": 2
}
